{
  "nbformat": 4,
  "nbformat_minor": 0,
  "metadata": {
    "colab": {
      "provenance": [],
      "toc_visible": true
    },
    "kernelspec": {
      "name": "python3",
      "display_name": "Python 3"
    },
    "language_info": {
      "name": "python"
    }
  },
  "cells": [
    {
      "cell_type": "markdown",
      "source": [
        "1. Upload charge_light_output.tar.gz\n",
        "2. Run all\n",
        "3. If any fits are unsuccessful, mess with initial parameters"
      ],
      "metadata": {
        "id": "BR8lek5uDXqz"
      }
    },
    {
      "cell_type": "markdown",
      "source": [
        "#Setup"
      ],
      "metadata": {
        "id": "UW1PBGG05zz-"
      }
    },
    {
      "cell_type": "code",
      "execution_count": null,
      "metadata": {
        "id": "CrzxMe0r5YmR"
      },
      "outputs": [],
      "source": [
        "!tar -xzf charge_light_output.tar.gz\n",
        "!mkdir cl_plots"
      ]
    },
    {
      "cell_type": "code",
      "source": [
        "import numpy as np\n",
        "import pandas as pd\n",
        "import matplotlib as mpl\n",
        "import matplotlib.pyplot as plt\n",
        "import matplotlib.ticker as tk\n",
        "import scipy.special as spi\n",
        "from scipy.optimize import curve_fit\n",
        "\n",
        "from google.colab import files\n",
        "import csv"
      ],
      "metadata": {
        "id": "-A0WsJRm5dJs"
      },
      "execution_count": null,
      "outputs": []
    },
    {
      "cell_type": "code",
      "source": [
        "def skgauss(n,m,a,alpha, mu):\n",
        "  phi = np.exp(((((n/m)-mu))**2)/2)**-1\n",
        "  phicdf = 2*(1+spi.erf(alpha*((n/m)-mu)))\n",
        "  return a*phi*phicdf"
      ],
      "metadata": {
        "id": "SshOPNRW5fcD"
      },
      "execution_count": null,
      "outputs": []
    },
    {
      "cell_type": "code",
      "source": [
        "params = {\n",
        "   'axes.labelsize': 21,\n",
        "   'font.size': 16,\n",
        "   'font.family': 'sans-serif',\n",
        "   'font.serif': 'Arial',\n",
        "   'legend.fontsize': 18,\n",
        "   'xtick.labelsize': 18,\n",
        "   'ytick.labelsize': 18,\n",
        "   'axes.labelpad': 15,\n",
        "\n",
        "   'figure.figsize': [10,8], # value in inches based on dpi of monitor\n",
        "   'figure.dpi': 105.5, # My monitor has a dpi of around 105.5 px/inch\n",
        "\n",
        "   'axes.grid': True,\n",
        "   'grid.linestyle': '-',\n",
        "   'grid.alpha': 0.25,\n",
        "   'axes.linewidth': 1,\n",
        "   'figure.constrained_layout.use': True,\n",
        "\n",
        "\n",
        "   # Using Paul Tol's notes:\n",
        "   'axes.prop_cycle':\n",
        "      mpl.cycler(color=['#4477aa', # blue\n",
        "                        '#ee6677', # red/pink\n",
        "                        '#228833', # green\n",
        "                        '#aa3377', # purple\n",
        "                        '#66ccee', # cyan\n",
        "                        '#ccbb44', # yellow\n",
        "                        '#bbbbbb', # grey\n",
        "                        ]),\n",
        "\n",
        "      # Pick either the cycler above, or the cycler below:\n",
        "\n",
        "      # (mpl.cycler(color=['#4477aa', # blue\n",
        "      #                     '#ee6677', # red/pink\n",
        "      #                     '#228833', # green\n",
        "      #                     '#aa3377', # purple\n",
        "      #                     '#66ccee', # cyan\n",
        "      #                     '#ccbb44', # yellow\n",
        "      #                     '#bbbbbb', # grey\n",
        "      #                     ]) +\n",
        "      #   mpl.cycler(linestyle=['-', # solid\n",
        "      #                         '--', # dashed\n",
        "      #                         ':', # dotted\n",
        "      #                         '-.', # dash dot\n",
        "      #                         (0, (3, 1, 1, 1, 1, 1)), # narrow dash dot dot\n",
        "      #                         (0, (1, 2, 5, 2, 5, 2)), # dash dash dot\n",
        "      #                         (0, (5, 2.5, 1, 2.5, 1, 2.5)), # dash dot dot\n",
        "      #                         ])),\n",
        "\n",
        "   'lines.linewidth': 2.5,\n",
        "\n",
        "   'image.cmap': 'jet',\n",
        "}\n",
        "\n",
        "\n",
        "plt.rcParams.update(params)"
      ],
      "metadata": {
        "id": "9htuIa2o5haW"
      },
      "execution_count": null,
      "outputs": []
    },
    {
      "cell_type": "code",
      "source": [
        "voltages = [550,560,570,580,590,600,610]\n",
        "charge_data_0 = np.zeros_like(voltages,dtype=float)\n",
        "light_data_0 = np.zeros_like(voltages,dtype=float)\n",
        "charge_err_0 = np.zeros_like(voltages,dtype=float)\n",
        "light_err_0 = np.zeros_like(voltages,dtype=float)\n",
        "tracked_levels = ['11.50','11.63','11.88','12.13','12.38','12.50','12.63','12.88','13.13','13.38','13.63','13.88','14.00','14.13','14.38','14.63','14.88','15.13','15.38','15.63','15.88','16.13','16.38','16.63','16.88','17.13','17.38','17.63','17.88','18.13','18.38','18.63','18.88','19.13','19.38','19.63']\n",
        "p_per_e_0 = np.zeros_like(voltages,dtype=float)"
      ],
      "metadata": {
        "id": "eR6_Py8D5l8d"
      },
      "execution_count": null,
      "outputs": []
    },
    {
      "cell_type": "code",
      "source": [
        "min_id = 313.9\n",
        "max_id = 319.7"
      ],
      "metadata": {
        "id": "IEaM8JpEWUcr"
      },
      "execution_count": null,
      "outputs": []
    },
    {
      "cell_type": "markdown",
      "source": [
        "#0%"
      ],
      "metadata": {
        "id": "f0gFzrSz52nr"
      }
    },
    {
      "cell_type": "markdown",
      "source": [
        "## 600V"
      ],
      "metadata": {
        "id": "V2yhzcFn55Ny"
      }
    },
    {
      "cell_type": "code",
      "source": [
        "num = 0\n",
        "sizes = []\n",
        "light_dicts = []\n",
        "all=[]\n",
        "\n",
        "\n",
        "for i in range(1,5001,1):\n",
        "  colls_dict = {}\n",
        "  try:\n",
        "    infile = open(\"cl_600_0/\" + str(i) + \".csv\",\"r\")\n",
        "  except FileNotFoundError:\n",
        "    continue\n",
        "  all = infile.readlines()\n",
        "  if int(all[0])!=0:\n",
        "    anode = int(all[0])\n",
        "    for j in range(1,len(all)):\n",
        "      ncoll = all[j].split(\",\")[1]\n",
        "      id = format(round(float(all[j].split(\",\")[0]),2),'.2f')\n",
        "      id = \"0\" + str(id)\n",
        "      if min_id <= float(id) <= max_id:\n",
        "        colls_dict[id]=int(ncoll)\n",
        "    num += 1\n",
        "    sizes.append(anode)\n",
        "    light_dicts.append(colls_dict)\n",
        "print(str(num) + \" data points\")\n",
        "\n",
        "total_nd_light = []\n",
        "sum = 0\n",
        "for i in light_dicts:\n",
        "  for j in i:\n",
        "      sum+=i[j]\n",
        "  total_nd_light.append(sum)\n",
        "  sum=0\n",
        "\n",
        "\n"
      ],
      "metadata": {
        "id": "NlsMaETZ5-RO"
      },
      "execution_count": null,
      "outputs": []
    },
    {
      "cell_type": "markdown",
      "source": [
        "### Charge"
      ],
      "metadata": {
        "id": "Ltf8XYnQF1kG"
      }
    },
    {
      "cell_type": "code",
      "source": [
        "n_bins = 40\n",
        "\n",
        "#set up bins\n",
        "bins = np.linspace(min(sizes),max(sizes), n_bins+1)\n",
        "bin_width = (max(sizes)-min(sizes))/n_bins\n",
        "bin_centres = []\n",
        "for i in range(len(bins)-1):\n",
        "  bin_centres.append((bins[1]-bins[0])*(i)+(bins[1]+bins[0])/2)\n",
        "\n",
        "#Plot histogram\n",
        "entries, bc, p = plt.hist(sizes, bins=bins, density=True, weights = np.ones_like(sizes)/num)\n",
        "plt.xlabel(\"Gain\")\n",
        "plt.ylabel(\"Normalised counts\")\n",
        "plt.title(\"Gain distribution [Pure CF4, 60 Torr, dV = 600V]\")\n",
        "\n",
        "#Fit, plot skew-Gaussian\n",
        "parameters, cov_matrix = curve_fit(skgauss, bin_centres, entries, p0=[100000,0.000001,4,0.001])\n",
        "y=[]\n",
        "for i in bin_centres:\n",
        "  y.append(skgauss(i,parameters[0],parameters[1],parameters[2],parameters[3]))\n",
        "plt.plot(bin_centres,y,\"o\")\n",
        "plt.legend([\"Fitted skew gaussian distribution\",\"Simulation\"])\n",
        "\n",
        "#Data mean, SD, SE\n",
        "ex_d= 0\n",
        "var_d = 0\n",
        "for i in range(len(bin_centres)):\n",
        "  ex_d += bin_centres[i]*entries[i]*bin_width\n",
        "for i in range(len(bin_centres)):\n",
        "  var_d += ((bin_centres[i]-ex_d)**2)*entries[i]*bin_width\n",
        "sd_d = np.sqrt(var_d)\n",
        "se_d = sd_d/np.sqrt(num)\n",
        "\n",
        "#Fit mean, SD, SE\n",
        "ex = 0\n",
        "var = 0\n",
        "for i in range(len(bin_centres)):\n",
        "  ex += bin_centres[i]*y[i]*bin_width\n",
        "for i in range(len(bin_centres)):\n",
        "  var += ((bin_centres[i]-ex)**2)*y[i]*bin_width\n",
        "sd = np.sqrt(var)\n",
        "se = sd/np.sqrt(num)\n",
        "\n",
        "charge_data_0[5] = ex\n",
        "charge_err_0[5] = np.sqrt((se**2)+(se_d**2))\n",
        "plt.text(max(sizes)-200000,max(entries)/1.5,\"mean = \" + str(int(round(ex,0))) + \"\\nSE = \" + str(int(round(np.sqrt((se**2)+(se_d**2)),0))))\n",
        "\n",
        "\n",
        "\n",
        "\n",
        "plt.savefig(\"cl_plots/c_600_0.png\")"
      ],
      "metadata": {
        "id": "ilq17hm7F2jP"
      },
      "execution_count": null,
      "outputs": []
    },
    {
      "cell_type": "markdown",
      "source": [
        "### Light"
      ],
      "metadata": {
        "id": "cqxKZx1uGkXj"
      }
    },
    {
      "cell_type": "code",
      "source": [
        "n_bins = 40\n",
        "\n",
        "#set up bins\n",
        "bins = np.linspace(min(total_nd_light),max(total_nd_light), n_bins+1)\n",
        "bin_width = (max(total_nd_light)-min(total_nd_light))/n_bins\n",
        "bin_centres = []\n",
        "for i in range(len(bins)-1):\n",
        "  bin_centres.append((bins[1]-bins[0])*(i)+(bins[1]+bins[0])/2)\n",
        "\n",
        "#Plot total histogram\n",
        "entries, bc, p = plt.hist(total_nd_light, bins=bins, density=True, weights = np.ones_like(total_nd_light)/num)\n",
        "plt.xlabel(\"Light production (Arb. units)\")\n",
        "plt.ylabel(\"Normalised counts\")\n",
        "plt.title(\"Light distribution [Pure CF4, 60 Torr, dV = 600V]\")\n",
        "\n",
        "#Fit, plot skew-Gaussian\n",
        "parameters, cov_matrix = curve_fit(skgauss, bin_centres, entries, p0=[5000000,0.000001,4,0.001])\n",
        "y=[]\n",
        "for i in bin_centres:\n",
        "  y.append(skgauss(i,parameters[0],parameters[1],parameters[2],parameters[3]))\n",
        "plt.plot(bin_centres,y,\"o\")\n",
        "plt.legend([\"Fitted skew gaussian distribution\",\"Simulation (CF4 light)\"])\n",
        "\n",
        "#Data mean, SD, SE\n",
        "ex_d= 0\n",
        "var_d = 0\n",
        "for i in range(len(bin_centres)):\n",
        "  ex_d += bin_centres[i]*entries[i]*bin_width\n",
        "for i in range(len(bin_centres)):\n",
        "  var_d += ((bin_centres[i]-ex_d)**2)*entries[i]*bin_width\n",
        "sd_d = np.sqrt(var_d)\n",
        "se_d = sd_d/np.sqrt(num)\n",
        "\n",
        "#Fit mean, SD, SE\n",
        "ex = 0\n",
        "var = 0\n",
        "for i in range(len(bin_centres)):\n",
        "  ex += bin_centres[i]*y[i]*bin_width\n",
        "for i in range(len(bin_centres)):\n",
        "  var += ((bin_centres[i]-ex)**2)*y[i]*bin_width\n",
        "sd = np.sqrt(var)\n",
        "se = sd/np.sqrt(num)\n",
        "plt.text(max(total_nd_light)-200000,max(entries)/1.5,\"mean = \" + str(int(round(ex,0))) + \"\\nSE = \" + str(int(round(np.sqrt((se**2)+(se_d**2)),0))))\n",
        "\n",
        "light_data_0[5] = ex\n",
        "light_err_0[5] = np.sqrt((se**2)+(se_d**2))\n",
        "\n",
        "plt.savefig(\"cl_plots/l_600_0.png\")"
      ],
      "metadata": {
        "id": "ft7uX2PDGpgW"
      },
      "execution_count": null,
      "outputs": []
    },
    {
      "cell_type": "markdown",
      "source": [
        "## 550V"
      ],
      "metadata": {
        "id": "0bahJ49MRc9x"
      }
    },
    {
      "cell_type": "code",
      "source": [
        "num = 0\n",
        "sizes = []\n",
        "light_dicts = []\n",
        "\n",
        "\n",
        "for i in range(1,5001,1):\n",
        "  colls_dict = {}\n",
        "  try:\n",
        "    infile = open(\"cl_550_0/\" + str(i) + \".csv\",\"r\")\n",
        "  except FileNotFoundError:\n",
        "    continue\n",
        "  all = infile.readlines()\n",
        "  #remove zero and extreme outlier present in this data\n",
        "  if int(all[0])!=0 and int(all[0])<=150000:\n",
        "    anode = int(all[0])\n",
        "    for j in range(1,len(all)):\n",
        "      ncoll = all[j].split(\",\")[1]\n",
        "      id = format(round(float(all[j].split(\",\")[0]),2),'.2f')\n",
        "      id = \"0\" + str(id)\n",
        "      if min_id <= float(id) <= max_id:\n",
        "        colls_dict[id]=int(ncoll)\n",
        "    num += 1\n",
        "    sizes.append(anode)\n",
        "    light_dicts.append(colls_dict)\n",
        "print(str(num) + \" data points\")\n",
        "\n",
        "total_nd_light = []\n",
        "sum = 0\n",
        "for i in light_dicts:\n",
        "  for j in i:\n",
        "      sum+=i[j]\n",
        "  total_nd_light.append(sum)\n",
        "  sum=0\n",
        "\n",
        "\n"
      ],
      "metadata": {
        "id": "Y6XLJkDnRc9x"
      },
      "execution_count": null,
      "outputs": []
    },
    {
      "cell_type": "markdown",
      "source": [
        "### Charge"
      ],
      "metadata": {
        "id": "yAdNkDO2Rc9x"
      }
    },
    {
      "cell_type": "code",
      "source": [
        "n_bins = 40\n",
        "\n",
        "\n",
        "\n",
        "#set up bins\n",
        "bins = np.linspace(min(sizes),max(sizes), n_bins+1)\n",
        "bin_width = (max(sizes)-min(sizes))/n_bins\n",
        "bin_centres = []\n",
        "for i in range(len(bins)-1):\n",
        "  bin_centres.append((bins[1]-bins[0])*(i)+(bins[1]+bins[0])/2)\n",
        "\n",
        "#Plot histogram\n",
        "entries, bc, p = plt.hist(sizes, bins=bins, density=True, weights = np.ones_like(sizes)/num)\n",
        "plt.xlabel(\"Gain\")\n",
        "plt.ylabel(\"Normalised counts\")\n",
        "plt.title(\"Gain distribution [Pure CF4, 60 Torr, dV = 550V]\")\n",
        "\n",
        "#Fit, plot skew-Gaussian\n",
        "parameters, cov_matrix = curve_fit(skgauss, bin_centres, entries, p0=[100000,0.000001,4,0.001])\n",
        "y=[]\n",
        "for i in bin_centres:\n",
        "  y.append(skgauss(i,parameters[0],parameters[1],parameters[2],parameters[3]))\n",
        "plt.plot(bin_centres,y,\"o\")\n",
        "plt.legend([\"Fitted skew gaussian distribution\",\"Simulation\"])\n",
        "\n",
        "#Data mean, SD, SE\n",
        "ex_d= 0\n",
        "var_d = 0\n",
        "for i in range(len(bin_centres)):\n",
        "  ex_d += bin_centres[i]*entries[i]*bin_width\n",
        "for i in range(len(bin_centres)):\n",
        "  var_d += ((bin_centres[i]-ex_d)**2)*entries[i]*bin_width\n",
        "sd_d = np.sqrt(var_d)\n",
        "se_d = sd_d/np.sqrt(num)\n",
        "\n",
        "#Fit mean, SD, SE\n",
        "ex = 0\n",
        "var = 0\n",
        "for i in range(len(bin_centres)):\n",
        "  ex += bin_centres[i]*y[i]*bin_width\n",
        "for i in range(len(bin_centres)):\n",
        "  var += ((bin_centres[i]-ex)**2)*y[i]*bin_width\n",
        "sd = np.sqrt(var)\n",
        "se = sd/np.sqrt(num)\n",
        "plt.text(max(sizes)-20000,max(entries)/1.5,\"mean = \" + str(int(round(ex,0))) + \"\\nSE = \" + str(int(round(np.sqrt((se**2)+(se_d**2)),0))))\n",
        "\n",
        "charge_data_0[0] = ex\n",
        "charge_err_0[0] = np.sqrt((se**2)+(se_d**2))\n",
        "\n",
        "\n",
        "plt.savefig(\"cl_plots/c_550_0.png\")"
      ],
      "metadata": {
        "id": "Ip0e2sTXRc9x"
      },
      "execution_count": null,
      "outputs": []
    },
    {
      "cell_type": "markdown",
      "source": [
        "### Light"
      ],
      "metadata": {
        "id": "1MBh-yVIRc9x"
      }
    },
    {
      "cell_type": "code",
      "source": [
        "n_bins = 40\n",
        "\n",
        "#set up bins\n",
        "bins = np.linspace(min(total_nd_light),max(total_nd_light), n_bins+1)\n",
        "bin_width = (max(total_nd_light)-min(total_nd_light))/n_bins\n",
        "bin_centres = []\n",
        "for i in range(len(bins)-1):\n",
        "  bin_centres.append((bins[1]-bins[0])*(i)+(bins[1]+bins[0])/2)\n",
        "\n",
        "#Plot total histogram\n",
        "entries, bc, p = plt.hist(total_nd_light, bins=bins, density=True, weights = np.ones_like(total_nd_light)/num)\n",
        "plt.xlabel(\"Light production (Arb. units)\")\n",
        "plt.ylabel(\"Normalised counts\")\n",
        "plt.title(\"Light distribution [Pure CF4, 60 Torr, dV = 550V]\")\n",
        "\n",
        "#Fit, plot skew-Gaussian\n",
        "parameters, cov_matrix = curve_fit(skgauss, bin_centres, entries, p0=[10000000,0.000001,4,0.001])\n",
        "y=[]\n",
        "for i in bin_centres:\n",
        "  y.append(skgauss(i,parameters[0],parameters[1],parameters[2],parameters[3]))\n",
        "plt.plot(bin_centres,y,\"o\")\n",
        "plt.legend([\"Fitted skew gaussian distribution\",\"Simulation (CF4 light)\"])\n",
        "\n",
        "#Data mean, SD, SE\n",
        "ex_d= 0\n",
        "var_d = 0\n",
        "for i in range(len(bin_centres)):\n",
        "  ex_d += bin_centres[i]*entries[i]*bin_width\n",
        "for i in range(len(bin_centres)):\n",
        "  var_d += ((bin_centres[i]-ex_d)**2)*entries[i]*bin_width\n",
        "sd_d = np.sqrt(var_d)\n",
        "se_d = sd_d/np.sqrt(num)\n",
        "\n",
        "#Fit mean, SD, SE\n",
        "ex = 0\n",
        "var = 0\n",
        "for i in range(len(bin_centres)):\n",
        "  ex += bin_centres[i]*y[i]*bin_width\n",
        "for i in range(len(bin_centres)):\n",
        "  var += ((bin_centres[i]-ex)**2)*y[i]*bin_width\n",
        "sd = np.sqrt(var)\n",
        "se = sd/np.sqrt(num)\n",
        "plt.text(max(total_nd_light)-200000,max(entries)/1.5,\"mean = \" + str(int(round(ex,0))) + \"\\nSE = \" + str(int(round(np.sqrt((se**2)+(se_d**2)),0))))\n",
        "\n",
        "light_data_0[0] = ex\n",
        "light_err_0[0] = np.sqrt((se**2)+(se_d**2))\n",
        "\n",
        "plt.savefig(\"cl_plots/l_550_0.png\")"
      ],
      "metadata": {
        "id": "OFTF8anlRc9x"
      },
      "execution_count": null,
      "outputs": []
    },
    {
      "cell_type": "markdown",
      "source": [
        "## 560V"
      ],
      "metadata": {
        "id": "7np3E1kaRuN5"
      }
    },
    {
      "cell_type": "code",
      "source": [
        "num = 0\n",
        "sizes = []\n",
        "light_dicts = []\n",
        "\n",
        "\n",
        "for i in range(1,5001,1):\n",
        "  colls_dict = {}\n",
        "  try:\n",
        "    infile = open(\"cl_560_0/\" + str(i) + \".csv\",\"r\")\n",
        "  except FileNotFoundError:\n",
        "    continue\n",
        "  all = infile.readlines()\n",
        "  if int(all[0])!=0:\n",
        "    anode = int(all[0])\n",
        "    for j in range(1,len(all)):\n",
        "      ncoll = all[j].split(\",\")[1]\n",
        "      id = format(round(float(all[j].split(\",\")[0]),2),'.2f')\n",
        "      id = \"0\" + str(id)\n",
        "      if min_id <= float(id) <= max_id:\n",
        "        colls_dict[id]=int(ncoll)\n",
        "    num += 1\n",
        "    sizes.append(anode)\n",
        "    light_dicts.append(colls_dict)\n",
        "print(str(num) + \" data points\")\n",
        "\n",
        "total_nd_light = []\n",
        "sum = 0\n",
        "for i in light_dicts:\n",
        "  for j in i:\n",
        "      sum+=i[j]\n",
        "  total_nd_light.append(sum)\n",
        "  sum=0\n",
        "\n",
        "\n"
      ],
      "metadata": {
        "id": "ShSMGqoLRuN6"
      },
      "execution_count": null,
      "outputs": []
    },
    {
      "cell_type": "markdown",
      "source": [
        "### Charge"
      ],
      "metadata": {
        "id": "drJID2gFRuN6"
      }
    },
    {
      "cell_type": "code",
      "source": [
        "n_bins = 30\n",
        "\n",
        "#set up bins\n",
        "bins = np.linspace(min(sizes),max(sizes), n_bins+1)\n",
        "bin_width = (max(sizes)-min(sizes))/n_bins\n",
        "bin_centres = []\n",
        "for i in range(len(bins)-1):\n",
        "  bin_centres.append((bins[1]-bins[0])*(i)+(bins[1]+bins[0])/2)\n",
        "\n",
        "#Plot histogram\n",
        "entries, bc, p = plt.hist(sizes, bins=bins, density=True, weights = np.ones_like(sizes)/num)\n",
        "plt.xlabel(\"Gain\")\n",
        "plt.ylabel(\"Normalised counts\")\n",
        "plt.title(\"Gain distribution [Pure CF4, 60 Torr, dV = 560V]\")\n",
        "\n",
        "#Fit, plot skew-Gaussian\n",
        "parameters, cov_matrix = curve_fit(skgauss, bin_centres, entries, p0=[100000,0.000001,4,0.001])\n",
        "y=[]\n",
        "for i in bin_centres:\n",
        "  y.append(skgauss(i,parameters[0],parameters[1],parameters[2],parameters[3]))\n",
        "plt.plot(bin_centres,y,\"o\")\n",
        "plt.legend([\"Fitted skew gaussian distribution\",\"Simulation\"])\n",
        "\n",
        "#Data mean, SD, SE\n",
        "ex_d= 0\n",
        "var_d = 0\n",
        "for i in range(len(bin_centres)):\n",
        "  ex_d += bin_centres[i]*entries[i]*bin_width\n",
        "for i in range(len(bin_centres)):\n",
        "  var_d += ((bin_centres[i]-ex_d)**2)*entries[i]*bin_width\n",
        "sd_d = np.sqrt(var_d)\n",
        "se_d = sd_d/np.sqrt(num)\n",
        "\n",
        "#Fit mean, SD, SE\n",
        "ex = 0\n",
        "var = 0\n",
        "for i in range(len(bin_centres)):\n",
        "  ex += bin_centres[i]*y[i]*bin_width\n",
        "for i in range(len(bin_centres)):\n",
        "  var += ((bin_centres[i]-ex)**2)*y[i]*bin_width\n",
        "sd = np.sqrt(var)\n",
        "se = sd/np.sqrt(num)\n",
        "plt.text(max(sizes)-20000,max(entries)/1.5,\"mean = \" + str(int(round(ex,0))) + \"\\nSE = \" + str(int(round(np.sqrt((se**2)+(se_d**2)),0))))\n",
        "\n",
        "charge_data_0[1] = ex\n",
        "charge_err_0[1] = np.sqrt((se**2)+(se_d**2))\n",
        "\n",
        "\n",
        "plt.savefig(\"cl_plots/c_560_0.png\")"
      ],
      "metadata": {
        "id": "Za4B7qmhRuN6"
      },
      "execution_count": null,
      "outputs": []
    },
    {
      "cell_type": "markdown",
      "source": [
        "### Light"
      ],
      "metadata": {
        "id": "av3J8-WhRuN6"
      }
    },
    {
      "cell_type": "code",
      "source": [
        "n_bins = 30\n",
        "\n",
        "#set up bins\n",
        "bins = np.linspace(min(total_nd_light),max(total_nd_light), n_bins+1)\n",
        "bin_width = (max(total_nd_light)-min(total_nd_light))/n_bins\n",
        "bin_centres = []\n",
        "for i in range(len(bins)-1):\n",
        "  bin_centres.append((bins[1]-bins[0])*(i)+(bins[1]+bins[0])/2)\n",
        "\n",
        "#Plot total histogram\n",
        "entries, bc, p = plt.hist(total_nd_light, bins=bins, density=True, weights = np.ones_like(total_nd_light)/num)\n",
        "plt.xlabel(\"Light production (Arb. units)\")\n",
        "plt.ylabel(\"Normalised counts\")\n",
        "plt.title(\"Light distribution [Pure CF4, 60 Torr, dV = 560V]\")\n",
        "\n",
        "#Fit, plot skew-Gaussian\n",
        "parameters, cov_matrix = curve_fit(skgauss, bin_centres, entries, p0=[3000000,0.00001,4,1])\n",
        "y=[]\n",
        "for i in bin_centres:\n",
        "  y.append(skgauss(i,parameters[0],parameters[1],parameters[2],parameters[3]))\n",
        "plt.plot(bin_centres,y,\"o\")\n",
        "plt.legend([\"Fitted skew gaussian distribution\",\"Simulation (CF4 light)\"])\n",
        "\n",
        "#Data mean, SD, SE\n",
        "ex_d= 0\n",
        "var_d = 0\n",
        "for i in range(len(bin_centres)):\n",
        "  ex_d += bin_centres[i]*entries[i]*bin_width\n",
        "for i in range(len(bin_centres)):\n",
        "  var_d += ((bin_centres[i]-ex_d)**2)*entries[i]*bin_width\n",
        "sd_d = np.sqrt(var_d)\n",
        "se_d = sd_d/np.sqrt(num)\n",
        "\n",
        "#Fit mean, SD, SE\n",
        "ex = 0\n",
        "var = 0\n",
        "for i in range(len(bin_centres)):\n",
        "  ex += bin_centres[i]*y[i]*bin_width\n",
        "for i in range(len(bin_centres)):\n",
        "  var += ((bin_centres[i]-ex)**2)*y[i]*bin_width\n",
        "sd = np.sqrt(var)\n",
        "se = sd/np.sqrt(num)\n",
        "light_data_0[1] = ex\n",
        "light_err_0[1] = np.sqrt((se**2)+(se_d**2))\n",
        "plt.text(max(total_nd_light)-200000,max(entries)/1.5,\"mean = \" + str(int(round(ex,0))) + \"\\nSE = \" + str(int(round(np.sqrt((se**2)+(se_d**2)),0))))\n",
        "\n",
        "\n",
        "\n",
        "plt.savefig(\"cl_plots/l_560_0.png\")"
      ],
      "metadata": {
        "id": "ECX9DnhlRuN6"
      },
      "execution_count": null,
      "outputs": []
    },
    {
      "cell_type": "markdown",
      "source": [
        "## 570V"
      ],
      "metadata": {
        "id": "jO49yySuB896"
      }
    },
    {
      "cell_type": "code",
      "source": [
        "num = 0\n",
        "sizes = []\n",
        "light_dicts = []\n",
        "\n",
        "\n",
        "for i in range(1,5001,1):\n",
        "  colls_dict = {}\n",
        "  try:\n",
        "    infile = open(\"cl_570_0/\" + str(i) + \".csv\",\"r\")\n",
        "  except FileNotFoundError:\n",
        "    continue\n",
        "  all = infile.readlines()\n",
        "  if int(all[0])!=0:\n",
        "    anode = int(all[0])\n",
        "    for j in range(1,len(all)):\n",
        "      ncoll = all[j].split(\",\")[1]\n",
        "      id = format(round(float(all[j].split(\",\")[0]),2),'.2f')\n",
        "      id = \"0\" + str(id)\n",
        "      if min_id <= float(id) <= max_id:\n",
        "        colls_dict[id]=int(ncoll)\n",
        "    num += 1\n",
        "    sizes.append(anode)\n",
        "    light_dicts.append(colls_dict)\n",
        "print(str(num) + \" data points\")\n",
        "\n",
        "total_nd_light = []\n",
        "sum = 0\n",
        "for i in light_dicts:\n",
        "  for j in i:\n",
        "      sum+=i[j]\n",
        "  total_nd_light.append(sum)\n",
        "  sum=0\n",
        "\n",
        "\n"
      ],
      "metadata": {
        "id": "Kxy9y7VWB896"
      },
      "execution_count": null,
      "outputs": []
    },
    {
      "cell_type": "markdown",
      "source": [
        "### Charge"
      ],
      "metadata": {
        "id": "qaSu5EtBB896"
      }
    },
    {
      "cell_type": "code",
      "source": [
        "n_bins = 30\n",
        "\n",
        "#set up bins\n",
        "bins = np.linspace(min(sizes),max(sizes), n_bins+1)\n",
        "bin_width = (max(sizes)-min(sizes))/n_bins\n",
        "bin_centres = []\n",
        "for i in range(len(bins)-1):\n",
        "  bin_centres.append((bins[1]-bins[0])*(i)+(bins[1]+bins[0])/2)\n",
        "\n",
        "#Plot histogram\n",
        "entries, bc, p = plt.hist(sizes, bins=bins, density=True, weights = np.ones_like(sizes)/num)\n",
        "plt.xlabel(\"Gain\")\n",
        "plt.ylabel(\"Normalised counts\")\n",
        "plt.title(\"Gain distribution [Pure CF4, 60 Torr, dV = 570V]\")\n",
        "\n",
        "#Fit, plot skew-Gaussian\n",
        "parameters, cov_matrix = curve_fit(skgauss, bin_centres, entries, p0=[20000,0.000001,5,0.1])\n",
        "y=[]\n",
        "for i in bin_centres:\n",
        "  y.append(skgauss(i,parameters[0],parameters[1],parameters[2],parameters[3]))\n",
        "plt.plot(bin_centres,y,\"o\")\n",
        "plt.legend([\"Fitted skew gaussian distribution\",\"Simulation\"])\n",
        "\n",
        "#Data mean, SD, SE\n",
        "ex_d= 0\n",
        "var_d = 0\n",
        "for i in range(len(bin_centres)):\n",
        "  ex_d += bin_centres[i]*entries[i]*bin_width\n",
        "for i in range(len(bin_centres)):\n",
        "  var_d += ((bin_centres[i]-ex_d)**2)*entries[i]*bin_width\n",
        "sd_d = np.sqrt(var_d)\n",
        "se_d = sd_d/np.sqrt(num)\n",
        "\n",
        "#Fit mean, SD, SE\n",
        "ex = 0\n",
        "var = 0\n",
        "for i in range(len(bin_centres)):\n",
        "  ex += bin_centres[i]*y[i]*bin_width\n",
        "for i in range(len(bin_centres)):\n",
        "  var += ((bin_centres[i]-ex)**2)*y[i]*bin_width\n",
        "sd = np.sqrt(var)\n",
        "se = sd/np.sqrt(num)\n",
        "plt.text(max(sizes)-20000,max(entries)/1.5,\"mean = \" + str(int(round(ex,0))) + \"\\nSE = \" + str(int(round(np.sqrt((se**2)+(se_d**2)),0))))\n",
        "\n",
        "charge_data_0[2] = ex\n",
        "charge_err_0[2] = np.sqrt((se**2)+(se_d**2))\n",
        "\n",
        "\n",
        "plt.savefig(\"cl_plots/c_570_0.png\")"
      ],
      "metadata": {
        "id": "bF-wObdQB896"
      },
      "execution_count": null,
      "outputs": []
    },
    {
      "cell_type": "markdown",
      "source": [
        "### Light"
      ],
      "metadata": {
        "id": "sX79IXnkB896"
      }
    },
    {
      "cell_type": "code",
      "source": [
        "n_bins = 30\n",
        "\n",
        "#set up bins\n",
        "bins = np.linspace(min(total_nd_light),max(total_nd_light), n_bins+1)\n",
        "bin_width = (max(total_nd_light)-min(total_nd_light))/n_bins\n",
        "bin_centres = []\n",
        "for i in range(len(bins)-1):\n",
        "  bin_centres.append((bins[1]-bins[0])*(i)+(bins[1]+bins[0])/2)\n",
        "\n",
        "#Plot total histogram\n",
        "entries, bc, p = plt.hist(total_nd_light, bins=bins, density=True, weights = np.ones_like(total_nd_light)/num)\n",
        "plt.xlabel(\"Light production (Arb. units)\")\n",
        "plt.ylabel(\"Normalised counts\")\n",
        "plt.title(\"Light distribution [Pure CF4, 60 Torr, dV = 570V]\")\n",
        "\n",
        "#Fit, plot skew-Gaussian\n",
        "parameters, cov_matrix = curve_fit(skgauss, bin_centres, entries, p0=[200000,0.00001,8,0.1])\n",
        "y=[]\n",
        "for i in bin_centres:\n",
        "  y.append(skgauss(i,parameters[0],parameters[1],parameters[2],parameters[3]))\n",
        "plt.plot(bin_centres,y,\"o\")\n",
        "plt.legend([\"Fitted skew gaussian distribution\",\"Simulation (CF4 light)\"])\n",
        "\n",
        "#Data mean, SD, SE\n",
        "ex_d= 0\n",
        "var_d = 0\n",
        "for i in range(len(bin_centres)):\n",
        "  ex_d += bin_centres[i]*entries[i]*bin_width\n",
        "for i in range(len(bin_centres)):\n",
        "  var_d += ((bin_centres[i]-ex_d)**2)*entries[i]*bin_width\n",
        "sd_d = np.sqrt(var_d)\n",
        "se_d = sd_d/np.sqrt(num)\n",
        "\n",
        "#Fit mean, SD, SE\n",
        "ex = 0\n",
        "var = 0\n",
        "for i in range(len(bin_centres)):\n",
        "  ex += bin_centres[i]*y[i]*bin_width\n",
        "for i in range(len(bin_centres)):\n",
        "  var += ((bin_centres[i]-ex)**2)*y[i]*bin_width\n",
        "sd = np.sqrt(var)\n",
        "se = sd/np.sqrt(num)\n",
        "light_data_0[2] = ex\n",
        "light_err_0[2] = np.sqrt((se**2)+(se_d**2))\n",
        "plt.text(max(total_nd_light)-200000,max(entries)/1.5,\"mean = \" + str(int(round(ex,0))) + \"\\nSE = \" + str(int(round(np.sqrt((se**2)+(se_d**2)),0))))\n",
        "\n",
        "print(parameters)\n",
        "\n",
        "plt.savefig(\"cl_plots/l_570_0.png\")"
      ],
      "metadata": {
        "id": "O2s_Ptp7B896"
      },
      "execution_count": null,
      "outputs": []
    },
    {
      "cell_type": "markdown",
      "source": [
        "## 580V"
      ],
      "metadata": {
        "id": "yhG0zqVXZzTO"
      }
    },
    {
      "cell_type": "code",
      "source": [
        "num = 0\n",
        "sizes = []\n",
        "light_dicts = []\n",
        "\n",
        "\n",
        "for i in range(1,5001,1):\n",
        "  colls_dict = {}\n",
        "  try:\n",
        "    infile = open(\"cl_580_0/\" + str(i) + \".csv\",\"r\")\n",
        "  except FileNotFoundError:\n",
        "    continue\n",
        "  all = infile.readlines()\n",
        "  if int(all[0])!=0:\n",
        "    anode = int(all[0])\n",
        "    for j in range(1,len(all)):\n",
        "      ncoll = all[j].split(\",\")[1]\n",
        "      id = format(round(float(all[j].split(\",\")[0]),2),'.2f')\n",
        "      id = \"0\" + str(id)\n",
        "      if min_id <= float(id) <= max_id:\n",
        "        colls_dict[id]=int(ncoll)\n",
        "    num += 1\n",
        "    sizes.append(anode)\n",
        "    light_dicts.append(colls_dict)\n",
        "print(str(num) + \" data points\")\n",
        "\n",
        "total_nd_light = []\n",
        "sum = 0\n",
        "for i in light_dicts:\n",
        "  for j in i:\n",
        "      sum+=i[j]\n",
        "  total_nd_light.append(sum)\n",
        "  sum=0\n",
        "\n",
        "\n"
      ],
      "metadata": {
        "id": "9MHAZkd8ZzTO"
      },
      "execution_count": null,
      "outputs": []
    },
    {
      "cell_type": "markdown",
      "source": [
        "### Charge"
      ],
      "metadata": {
        "id": "njgiwlBFZzTO"
      }
    },
    {
      "cell_type": "code",
      "source": [
        "n_bins = 30\n",
        "\n",
        "#set up bins\n",
        "bins = np.linspace(min(sizes),max(sizes), n_bins+1)\n",
        "bin_width = (max(sizes)-min(sizes))/n_bins\n",
        "bin_centres = []\n",
        "for i in range(len(bins)-1):\n",
        "  bin_centres.append((bins[1]-bins[0])*(i)+(bins[1]+bins[0])/2)\n",
        "\n",
        "#Plot histogram\n",
        "entries, bc, p = plt.hist(sizes, bins=bins, density=True, weights = np.ones_like(sizes)/num)\n",
        "plt.xlabel(\"Gain\")\n",
        "plt.ylabel(\"Normalised counts\")\n",
        "plt.title(\"Gain distribution [Pure CF4, 60 Torr, dV = 580V]\")\n",
        "\n",
        "#Fit, plot skew-Gaussian\n",
        "parameters, cov_matrix = curve_fit(skgauss, bin_centres, entries, p0=[30000,0.000001,6,0.1])\n",
        "y=[]\n",
        "for i in bin_centres:\n",
        "  y.append(skgauss(i,parameters[0],parameters[1],parameters[2],parameters[3]))\n",
        "plt.plot(bin_centres,y,\"o\")\n",
        "plt.legend([\"Fitted skew gaussian distribution\",\"Simulation\"])\n",
        "\n",
        "#Data mean, SD, SE\n",
        "ex_d= 0\n",
        "var_d = 0\n",
        "for i in range(len(bin_centres)):\n",
        "  ex_d += bin_centres[i]*entries[i]*bin_width\n",
        "for i in range(len(bin_centres)):\n",
        "  var_d += ((bin_centres[i]-ex_d)**2)*entries[i]*bin_width\n",
        "sd_d = np.sqrt(var_d)\n",
        "se_d = sd_d/np.sqrt(num)\n",
        "\n",
        "#Fit mean, SD, SE\n",
        "ex = 0\n",
        "var = 0\n",
        "for i in range(len(bin_centres)):\n",
        "  ex += bin_centres[i]*y[i]*bin_width\n",
        "for i in range(len(bin_centres)):\n",
        "  var += ((bin_centres[i]-ex)**2)*y[i]*bin_width\n",
        "sd = np.sqrt(var)\n",
        "se = sd/np.sqrt(num)\n",
        "plt.text(max(sizes)-20000,max(entries)/1.5,\"mean = \" + str(int(round(ex,0))) + \"\\nSE = \" + str(int(round(np.sqrt((se**2)+(se_d**2)),0))))\n",
        "\n",
        "charge_data_0[3] = ex\n",
        "charge_err_0[3] = np.sqrt((se**2)+(se_d**2))\n",
        "\n",
        "\n",
        "plt.savefig(\"cl_plots/c_580_0.png\")"
      ],
      "metadata": {
        "id": "IIVUMGq3ZzTO"
      },
      "execution_count": null,
      "outputs": []
    },
    {
      "cell_type": "markdown",
      "source": [
        "### Light"
      ],
      "metadata": {
        "id": "RDp2dXoaZzTP"
      }
    },
    {
      "cell_type": "code",
      "source": [
        "n_bins = 30\n",
        "\n",
        "#set up bins\n",
        "bins = np.linspace(min(total_nd_light),max(total_nd_light), n_bins+1)\n",
        "bin_width = (max(total_nd_light)-min(total_nd_light))/n_bins\n",
        "bin_centres = []\n",
        "for i in range(len(bins)-1):\n",
        "  bin_centres.append((bins[1]-bins[0])*(i)+(bins[1]+bins[0])/2)\n",
        "\n",
        "#Plot total histogram\n",
        "entries, bc, p = plt.hist(total_nd_light, bins=bins, density=True, weights = np.ones_like(total_nd_light)/num)\n",
        "plt.xlabel(\"Light production (Arb. units)\")\n",
        "plt.ylabel(\"Normalised counts\")\n",
        "plt.title(\"Light distribution [Pure CF4, 60 Torr, dV = 580V]\")\n",
        "\n",
        "#Fit, plot skew-Gaussian\n",
        "parameters, cov_matrix = curve_fit(skgauss, bin_centres, entries, p0=[200000,0.00001,8,0.1])\n",
        "y=[]\n",
        "for i in bin_centres:\n",
        "  y.append(skgauss(i,parameters[0],parameters[1],parameters[2],parameters[3]))\n",
        "plt.plot(bin_centres,y,\"o\")\n",
        "plt.legend([\"Fitted skew gaussian distribution\",\"Simulation (CF4 light)\"])\n",
        "\n",
        "#Data mean, SD, SE\n",
        "ex_d= 0\n",
        "var_d = 0\n",
        "for i in range(len(bin_centres)):\n",
        "  ex_d += bin_centres[i]*entries[i]*bin_width\n",
        "for i in range(len(bin_centres)):\n",
        "  var_d += ((bin_centres[i]-ex_d)**2)*entries[i]*bin_width\n",
        "sd_d = np.sqrt(var_d)\n",
        "se_d = sd_d/np.sqrt(num)\n",
        "\n",
        "#Fit mean, SD, SE\n",
        "ex = 0\n",
        "var = 0\n",
        "for i in range(len(bin_centres)):\n",
        "  ex += bin_centres[i]*y[i]*bin_width\n",
        "for i in range(len(bin_centres)):\n",
        "  var += ((bin_centres[i]-ex)**2)*y[i]*bin_width\n",
        "sd = np.sqrt(var)\n",
        "se = sd/np.sqrt(num)\n",
        "light_data_0[3] = ex\n",
        "light_err_0[3] = np.sqrt((se**2)+(se_d**2))\n",
        "plt.text(max(total_nd_light)-200000,max(entries)/1.5,\"mean = \" + str(int(round(ex,0))) + \"\\nSE = \" + str(int(round(np.sqrt((se**2)+(se_d**2)),0))))\n",
        "\n",
        "plt.savefig(\"cl_plots/l_580_0.png\")"
      ],
      "metadata": {
        "id": "zY06oQXSZzTP"
      },
      "execution_count": null,
      "outputs": []
    },
    {
      "cell_type": "markdown",
      "source": [
        "## 590V"
      ],
      "metadata": {
        "id": "3qEF4d5DNeP3"
      }
    },
    {
      "cell_type": "code",
      "source": [
        "num = 0\n",
        "sizes = []\n",
        "light_dicts = []\n",
        "\n",
        "\n",
        "for i in range(1,5001,1):\n",
        "  colls_dict = {}\n",
        "  try:\n",
        "    infile = open(\"cl_590_0/\" + str(i) + \".csv\",\"r\")\n",
        "  except FileNotFoundError:\n",
        "    continue\n",
        "  all = infile.readlines()\n",
        "  if int(all[0])!=0:\n",
        "    anode = int(all[0])\n",
        "    for j in range(1,len(all)):\n",
        "      ncoll = all[j].split(\",\")[1]\n",
        "      id = format(round(float(all[j].split(\",\")[0]),2),'.2f')\n",
        "      id = \"0\" + str(id)\n",
        "      if min_id <= float(id) <= max_id:\n",
        "        colls_dict[id]=int(ncoll)\n",
        "    num += 1\n",
        "    sizes.append(anode)\n",
        "    light_dicts.append(colls_dict)\n",
        "print(str(num) + \" data points\")\n",
        "\n",
        "total_nd_light = []\n",
        "sum = 0\n",
        "for i in light_dicts:\n",
        "  for j in i:\n",
        "      sum+=i[j]\n",
        "  total_nd_light.append(sum)\n",
        "  sum=0\n",
        "\n",
        "\n"
      ],
      "metadata": {
        "id": "V3QM4CZyNeP3"
      },
      "execution_count": null,
      "outputs": []
    },
    {
      "cell_type": "markdown",
      "source": [
        "### Charge"
      ],
      "metadata": {
        "id": "T0ePqLvlNeP3"
      }
    },
    {
      "cell_type": "code",
      "source": [
        "n_bins = 30\n",
        "\n",
        "#set up bins\n",
        "bins = np.linspace(min(sizes),max(sizes), n_bins+1)\n",
        "bin_width = (max(sizes)-min(sizes))/n_bins\n",
        "bin_centres = []\n",
        "for i in range(len(bins)-1):\n",
        "  bin_centres.append((bins[1]-bins[0])*(i)+(bins[1]+bins[0])/2)\n",
        "\n",
        "#Plot histogram\n",
        "entries, bc, p = plt.hist(sizes, bins=bins, density=True, weights = np.ones_like(sizes)/num)\n",
        "plt.xlabel(\"Gain\")\n",
        "plt.ylabel(\"Normalised counts\")\n",
        "plt.title(\"Gain distribution [Pure CF4, 60 Torr, dV = 590V]\")\n",
        "\n",
        "#Fit, plot skew-Gaussian\n",
        "parameters, cov_matrix = curve_fit(skgauss, bin_centres, entries, p0=[50000,0.000001,6,0.1])\n",
        "y=[]\n",
        "for i in bin_centres:\n",
        "  y.append(skgauss(i,parameters[0],parameters[1],parameters[2],parameters[3]))\n",
        "plt.plot(bin_centres,y,\"o\")\n",
        "plt.legend([\"Fitted skew gaussian distribution\",\"Simulation\"])\n",
        "\n",
        "#Data mean, SD, SE\n",
        "ex_d= 0\n",
        "var_d = 0\n",
        "for i in range(len(bin_centres)):\n",
        "  ex_d += bin_centres[i]*entries[i]*bin_width\n",
        "for i in range(len(bin_centres)):\n",
        "  var_d += ((bin_centres[i]-ex_d)**2)*entries[i]*bin_width\n",
        "sd_d = np.sqrt(var_d)\n",
        "se_d = sd_d/np.sqrt(num)\n",
        "\n",
        "#Fit mean, SD, SE\n",
        "ex = 0\n",
        "var = 0\n",
        "for i in range(len(bin_centres)):\n",
        "  ex += bin_centres[i]*y[i]*bin_width\n",
        "for i in range(len(bin_centres)):\n",
        "  var += ((bin_centres[i]-ex)**2)*y[i]*bin_width\n",
        "sd = np.sqrt(var)\n",
        "se = sd/np.sqrt(num)\n",
        "plt.text(max(sizes)-20000,max(entries)/1.5,\"mean = \" + str(int(round(ex,0))) + \"\\nSE = \" + str(int(round(np.sqrt((se**2)+(se_d**2)),0))))\n",
        "\n",
        "charge_data_0[4] = ex\n",
        "charge_err_0[4] = np.sqrt((se**2)+(se_d**2))\n",
        "\n",
        "\n",
        "plt.savefig(\"cl_plots/c_590_0.png\")"
      ],
      "metadata": {
        "id": "htxWbrANNeP4"
      },
      "execution_count": null,
      "outputs": []
    },
    {
      "cell_type": "markdown",
      "source": [
        "### Light"
      ],
      "metadata": {
        "id": "lsYtvormNeP4"
      }
    },
    {
      "cell_type": "code",
      "source": [
        "n_bins = 30\n",
        "\n",
        "#set up bins\n",
        "bins = np.linspace(min(total_nd_light),max(total_nd_light), n_bins+1)\n",
        "bin_width = (max(total_nd_light)-min(total_nd_light))/n_bins\n",
        "bin_centres = []\n",
        "for i in range(len(bins)-1):\n",
        "  bin_centres.append((bins[1]-bins[0])*(i)+(bins[1]+bins[0])/2)\n",
        "\n",
        "#Plot total histogram\n",
        "entries, bc, p = plt.hist(total_nd_light, bins=bins, density=True, weights = np.ones_like(total_nd_light)/num)\n",
        "plt.xlabel(\"Light production (Arb. units)\")\n",
        "plt.ylabel(\"Normalised counts\")\n",
        "plt.title(\"Light distribution [Pure CF4, 60 Torr, dV = 590V]\")\n",
        "\n",
        "#Fit, plot skew-Gaussian\n",
        "parameters, cov_matrix = curve_fit(skgauss, bin_centres, entries, p0=[200000,0.00001,8,0.1])\n",
        "y=[]\n",
        "for i in bin_centres:\n",
        "  y.append(skgauss(i,parameters[0],parameters[1],parameters[2],parameters[3]))\n",
        "plt.plot(bin_centres,y,\"o\")\n",
        "plt.legend([\"Fitted skew gaussian distribution\",\"Simulation (CF4 light)\"])\n",
        "\n",
        "#Data mean, SD, SE\n",
        "ex_d= 0\n",
        "var_d = 0\n",
        "for i in range(len(bin_centres)):\n",
        "  ex_d += bin_centres[i]*entries[i]*bin_width\n",
        "for i in range(len(bin_centres)):\n",
        "  var_d += ((bin_centres[i]-ex_d)**2)*entries[i]*bin_width\n",
        "sd_d = np.sqrt(var_d)\n",
        "se_d = sd_d/np.sqrt(num)\n",
        "\n",
        "#Fit mean, SD, SE\n",
        "ex = 0\n",
        "var = 0\n",
        "for i in range(len(bin_centres)):\n",
        "  ex += bin_centres[i]*y[i]*bin_width\n",
        "for i in range(len(bin_centres)):\n",
        "  var += ((bin_centres[i]-ex)**2)*y[i]*bin_width\n",
        "sd = np.sqrt(var)\n",
        "se = sd/np.sqrt(num)\n",
        "light_data_0[4] = ex\n",
        "light_err_0[4] = np.sqrt((se**2)+(se_d**2))\n",
        "plt.text(max(total_nd_light)-200000,max(entries)/1.5,\"mean = \" + str(int(round(ex,0))) + \"\\nSE = \" + str(int(round(np.sqrt((se**2)+(se_d**2)),0))))\n",
        "\n",
        "plt.savefig(\"cl_plots/l_590_0.png\")"
      ],
      "metadata": {
        "id": "SvAVNRgzNeP4"
      },
      "execution_count": null,
      "outputs": []
    },
    {
      "cell_type": "markdown",
      "source": [
        "## 610V"
      ],
      "metadata": {
        "id": "_zpJifq0sJea"
      }
    },
    {
      "cell_type": "code",
      "source": [
        "num = 0\n",
        "sizes = []\n",
        "light_dicts = []\n",
        "\n",
        "\n",
        "for i in range(1,5001,1):\n",
        "  colls_dict = {}\n",
        "  try:\n",
        "    infile = open(\"cl_610_0/\" + str(i) + \".csv\",\"r\")\n",
        "  except FileNotFoundError:\n",
        "    continue\n",
        "  all = infile.readlines()\n",
        "  if int(all[0])!=0:\n",
        "    anode = int(all[0])\n",
        "    for j in range(1,len(all)):\n",
        "      ncoll = all[j].split(\",\")[1]\n",
        "      id = format(round(float(all[j].split(\",\")[0]),2),'.2f')\n",
        "      id = \"0\" + str(id)\n",
        "      if min_id <= float(id) <= max_id:\n",
        "        colls_dict[id]=int(ncoll)\n",
        "    num += 1\n",
        "    sizes.append(anode)\n",
        "    light_dicts.append(colls_dict)\n",
        "print(str(num) + \" data points\")\n",
        "\n",
        "total_nd_light = []\n",
        "sum = 0\n",
        "for i in light_dicts:\n",
        "  for j in i:\n",
        "      sum+=i[j]\n",
        "  total_nd_light.append(sum)\n",
        "  sum=0\n",
        "\n",
        "\n"
      ],
      "metadata": {
        "id": "gLUAt6ECsJea"
      },
      "execution_count": null,
      "outputs": []
    },
    {
      "cell_type": "markdown",
      "source": [
        "### Charge"
      ],
      "metadata": {
        "id": "rKQuNc6wsJea"
      }
    },
    {
      "cell_type": "code",
      "source": [
        "n_bins = 30\n",
        "\n",
        "#set up bins\n",
        "bins = np.linspace(min(sizes),max(sizes), n_bins+1)\n",
        "bin_width = (max(sizes)-min(sizes))/n_bins\n",
        "bin_centres = []\n",
        "for i in range(len(bins)-1):\n",
        "  bin_centres.append((bins[1]-bins[0])*(i)+(bins[1]+bins[0])/2)\n",
        "\n",
        "#Plot histogram\n",
        "entries, bc, p = plt.hist(sizes, bins=bins, density=True, weights = np.ones_like(sizes)/num)\n",
        "plt.xlabel(\"Gain\")\n",
        "plt.ylabel(\"Normalised counts\")\n",
        "plt.title(\"Gain distribution [Pure CF4, 60 Torr, dV = 610V]\")\n",
        "\n",
        "#Fit, plot skew-Gaussian\n",
        "parameters, cov_matrix = curve_fit(skgauss, bin_centres, entries, p0=[200000,0.000001,6,0.1])\n",
        "y=[]\n",
        "for i in bin_centres:\n",
        "  y.append(skgauss(i,parameters[0],parameters[1],parameters[2],parameters[3]))\n",
        "plt.plot(bin_centres,y,\"o\")\n",
        "plt.legend([\"Fitted skew gaussian distribution\",\"Simulation\"])\n",
        "\n",
        "#Data mean, SD, SE\n",
        "ex_d= 0\n",
        "var_d = 0\n",
        "for i in range(len(bin_centres)):\n",
        "  ex_d += bin_centres[i]*entries[i]*bin_width\n",
        "for i in range(len(bin_centres)):\n",
        "  var_d += ((bin_centres[i]-ex_d)**2)*entries[i]*bin_width\n",
        "sd_d = np.sqrt(var_d)\n",
        "se_d = sd_d/np.sqrt(num)\n",
        "\n",
        "#Fit mean, SD, SE\n",
        "ex = 0\n",
        "var = 0\n",
        "for i in range(len(bin_centres)):\n",
        "  ex += bin_centres[i]*y[i]*bin_width\n",
        "for i in range(len(bin_centres)):\n",
        "  var += ((bin_centres[i]-ex)**2)*y[i]*bin_width\n",
        "sd = np.sqrt(var)\n",
        "se = sd/np.sqrt(num)\n",
        "plt.text(max(sizes)-20000,max(entries)/1.5,\"mean = \" + str(int(round(ex,0))) + \"\\nSE = \" + str(int(round(np.sqrt((se**2)+(se_d**2)),0))))\n",
        "\n",
        "charge_data_0[6] = ex\n",
        "charge_err_0[6] = np.sqrt((se**2)+(se_d**2))\n",
        "\n",
        "\n",
        "plt.savefig(\"cl_plots/c_610_0.png\")"
      ],
      "metadata": {
        "id": "32P4o4OGsJea"
      },
      "execution_count": null,
      "outputs": []
    },
    {
      "cell_type": "markdown",
      "source": [
        "### Light"
      ],
      "metadata": {
        "id": "pPXkQJDMsJea"
      }
    },
    {
      "cell_type": "code",
      "source": [
        "n_bins = 30\n",
        "\n",
        "#set up bins\n",
        "bins = np.linspace(min(total_nd_light),max(total_nd_light), n_bins+1)\n",
        "bin_width = (max(total_nd_light)-min(total_nd_light))/n_bins\n",
        "bin_centres = []\n",
        "for i in range(len(bins)-1):\n",
        "  bin_centres.append((bins[1]-bins[0])*(i)+(bins[1]+bins[0])/2)\n",
        "\n",
        "#Plot total histogram\n",
        "entries, bc, p = plt.hist(total_nd_light, bins=bins, density=True, weights = np.ones_like(total_nd_light)/num)\n",
        "plt.xlabel(\"Light production (Arb. units)\")\n",
        "plt.ylabel(\"Normalised counts\")\n",
        "plt.title(\"Light distribution [Pure CF4, 60 Torr, dV = 610V]\")\n",
        "\n",
        "#Fit, plot skew-Gaussian\n",
        "parameters, cov_matrix = curve_fit(skgauss, bin_centres, entries, p0=[1000000,0.00001,8,0.1])\n",
        "y=[]\n",
        "for i in bin_centres:\n",
        "  y.append(skgauss(i,parameters[0],parameters[1],parameters[2],parameters[3]))\n",
        "plt.plot(bin_centres,y,\"o\")\n",
        "plt.legend([\"Fitted skew gaussian distribution\",\"Simulation (CF4 light)\"])\n",
        "\n",
        "#Data mean, SD, SE\n",
        "ex_d= 0\n",
        "var_d = 0\n",
        "for i in range(len(bin_centres)):\n",
        "  ex_d += bin_centres[i]*entries[i]*bin_width\n",
        "for i in range(len(bin_centres)):\n",
        "  var_d += ((bin_centres[i]-ex_d)**2)*entries[i]*bin_width\n",
        "sd_d = np.sqrt(var_d)\n",
        "se_d = sd_d/np.sqrt(num)\n",
        "\n",
        "#Fit mean, SD, SE\n",
        "ex = 0\n",
        "var = 0\n",
        "for i in range(len(bin_centres)):\n",
        "  ex += bin_centres[i]*y[i]*bin_width\n",
        "for i in range(len(bin_centres)):\n",
        "  var += ((bin_centres[i]-ex)**2)*y[i]*bin_width\n",
        "sd = np.sqrt(var)\n",
        "se = sd/np.sqrt(num)\n",
        "light_data_0[6] = ex\n",
        "light_err_0[6] = np.sqrt((se**2)+(se_d**2))\n",
        "plt.text(max(total_nd_light)-200000,max(entries)/1.5,\"mean = \" + str(int(round(ex,0))) + \"\\nSE = \" + str(int(round(np.sqrt((se**2)+(se_d**2)),0))))\n",
        "\n",
        "plt.savefig(\"cl_plots/l_610_0.png\")"
      ],
      "metadata": {
        "id": "iFMmighYsJea"
      },
      "execution_count": null,
      "outputs": []
    },
    {
      "cell_type": "markdown",
      "source": [
        "# Comparison"
      ],
      "metadata": {
        "id": "5eNhpidKW44F"
      }
    },
    {
      "cell_type": "code",
      "source": [
        "#fraction of collisions that result in scintillation\n",
        "scintillation_fraction = 1\n",
        "efficiency = 0.17585\n",
        "light_data_0 = light_data_0*scintillation_fraction\n",
        "light_err_0 = light_err_0*scintillation_fraction\n",
        "\n",
        "p_per_e_0[0] = efficiency*light_data_0[0]/charge_data_0[0]\n",
        "p_per_e_0[1] = efficiency*light_data_0[1]/charge_data_0[1]\n",
        "p_per_e_0[2] = efficiency*light_data_0[2]/charge_data_0[2]\n",
        "p_per_e_0[3] = efficiency*light_data_0[3]/charge_data_0[3]\n",
        "p_per_e_0[4] = efficiency*light_data_0[4]/charge_data_0[4]\n",
        "p_per_e_0[5] = efficiency*light_data_0[5]/charge_data_0[5]\n",
        "p_per_e_0[6] = efficiency*light_data_0[6]/charge_data_0[6]\n",
        "\n"
      ],
      "metadata": {
        "id": "fwXnkuYFMEbi"
      },
      "execution_count": null,
      "outputs": []
    },
    {
      "cell_type": "code",
      "source": [
        "ax = plt.axes()\n",
        "\n",
        "# 0%\n",
        "ax.scatter(charge_data_0,light_data_0)\n",
        "ax.errorbar(charge_data_0,light_data_0,xerr = charge_err_0,yerr = light_err_0,ls='none')\n",
        "\n",
        "ax.set_xlabel(\"Electrons collected\")\n",
        "ax.set_ylabel(\"Photons produced\")\n",
        "ax.set_title(\"[60 Torr, pure CF4]\")\n",
        "#ax.plot(np.linspace(charge_data_0[0],max(charge_data_0)),np.multiply(np.linspace(charge_data_0[0],max(charge_data_0)),207))\n",
        "#ax.legend([\"Simulation data\",\"y=207x\"])"
      ],
      "metadata": {
        "id": "EbmjjsGBW6yF"
      },
      "execution_count": null,
      "outputs": []
    },
    {
      "cell_type": "code",
      "source": [
        "ax = plt.axes()\n",
        "ax.scatter(charge_data_0,p_per_e_0)\n",
        "ax.set_xlabel(\"Electrons collected\")\n",
        "ax.set_ylabel(\"Photons per electron produced\")\n",
        "ax.set_title(\"[60 Torr, pure CF4]\")"
      ],
      "metadata": {
        "id": "ofOIrdsU2hJC"
      },
      "execution_count": null,
      "outputs": []
    }
  ]
}