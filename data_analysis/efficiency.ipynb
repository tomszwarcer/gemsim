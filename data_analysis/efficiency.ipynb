{
  "nbformat": 4,
  "nbformat_minor": 0,
  "metadata": {
    "colab": {
      "provenance": []
    },
    "kernelspec": {
      "name": "python3",
      "display_name": "Python 3"
    },
    "language_info": {
      "name": "python"
    }
  },
  "cells": [
    {
      "cell_type": "markdown",
      "source": [
        "1. Upload eff_output.tar.gz\n",
        "2. Run all"
      ],
      "metadata": {
        "id": "aPUbOrSEbWr-"
      }
    },
    {
      "cell_type": "code",
      "execution_count": null,
      "metadata": {
        "id": "KoBafx9wTIBE"
      },
      "outputs": [],
      "source": [
        "!tar -xzf eff_output.tar.gz"
      ]
    },
    {
      "cell_type": "code",
      "source": [
        "import numpy as np\n",
        "import pandas as pd\n",
        "import matplotlib as mpl\n",
        "import matplotlib.pyplot as plt\n",
        "import matplotlib.ticker as tk\n",
        "import scipy.special as spi\n",
        "from scipy.optimize import curve_fit\n",
        "\n",
        "from google.colab import files\n",
        "import csv"
      ],
      "metadata": {
        "id": "fyfLKFhoUDre"
      },
      "execution_count": null,
      "outputs": []
    },
    {
      "cell_type": "code",
      "source": [
        "params = {\n",
        "   'axes.labelsize': 21,\n",
        "   'font.size': 16,\n",
        "   'font.family': 'sans-serif',\n",
        "   'font.serif': 'Arial',\n",
        "   'legend.fontsize': 18,\n",
        "   'xtick.labelsize': 18,\n",
        "   'ytick.labelsize': 18,\n",
        "   'axes.labelpad': 15,\n",
        "\n",
        "   'figure.figsize': [10,8], # value in inches based on dpi of monitor\n",
        "   'figure.dpi': 105.5, # My monitor has a dpi of around 105.5 px/inch\n",
        "\n",
        "   'axes.grid': True,\n",
        "   'grid.linestyle': '-',\n",
        "   'grid.alpha': 0.25,\n",
        "   'axes.linewidth': 1,\n",
        "   'figure.constrained_layout.use': True,\n",
        "\n",
        "\n",
        "   # Using Paul Tol's notes:\n",
        "   'axes.prop_cycle':\n",
        "      mpl.cycler(color=['#4477aa', # blue\n",
        "                        '#ee6677', # red/pink\n",
        "                        '#228833', # green\n",
        "                        '#aa3377', # purple\n",
        "                        '#66ccee', # cyan\n",
        "                        '#ccbb44', # yellow\n",
        "                        '#bbbbbb', # grey\n",
        "                        ]),\n",
        "\n",
        "      # Pick either the cycler above, or the cycler below:\n",
        "\n",
        "      # (mpl.cycler(color=['#4477aa', # blue\n",
        "      #                     '#ee6677', # red/pink\n",
        "      #                     '#228833', # green\n",
        "      #                     '#aa3377', # purple\n",
        "      #                     '#66ccee', # cyan\n",
        "      #                     '#ccbb44', # yellow\n",
        "      #                     '#bbbbbb', # grey\n",
        "      #                     ]) +\n",
        "      #   mpl.cycler(linestyle=['-', # solid\n",
        "      #                         '--', # dashed\n",
        "      #                         ':', # dotted\n",
        "      #                         '-.', # dash dot\n",
        "      #                         (0, (3, 1, 1, 1, 1, 1)), # narrow dash dot dot\n",
        "      #                         (0, (1, 2, 5, 2, 5, 2)), # dash dash dot\n",
        "      #                         (0, (5, 2.5, 1, 2.5, 1, 2.5)), # dash dot dot\n",
        "      #                         ])),\n",
        "\n",
        "   'lines.linewidth': 2.5,\n",
        "\n",
        "   'image.cmap': 'jet',\n",
        "}\n",
        "\n",
        "\n",
        "plt.rcParams.update(params)"
      ],
      "metadata": {
        "id": "geK6v6_GUEvu"
      },
      "execution_count": null,
      "outputs": []
    },
    {
      "cell_type": "code",
      "source": [
        "def gaussian(x,mu,sigma):\n",
        "  return np.exp(-0.5*((x-mu)/sigma)**2)/(np.sqrt(2*np.pi)*sigma)"
      ],
      "metadata": {
        "id": "9IxxbLqeUPE_"
      },
      "execution_count": null,
      "outputs": []
    },
    {
      "cell_type": "code",
      "source": [
        "efficiencies = []\n",
        "num=0\n",
        "for i in range(1,5001,1):\n",
        "  try:\n",
        "    infile = open(\"eff_590_0/\" + str(i) + \".csv\",\"r\")\n",
        "  except FileNotFoundError:\n",
        "    continue\n",
        "  all = infile.readlines()\n",
        "  if int(all[0])!=0:\n",
        "    efficiencies.append(int(all[0])/int(all[1]))\n",
        "    num+=1\n",
        "print(efficiencies)\n",
        "print(num)"
      ],
      "metadata": {
        "id": "JEAVZcjvTd7s"
      },
      "execution_count": null,
      "outputs": []
    },
    {
      "cell_type": "code",
      "source": [
        "n_bins = 70\n",
        "\n",
        "#set up bins\n",
        "bins = np.linspace(min(efficiencies),max(efficiencies), n_bins+1)\n",
        "bin_width = (max(efficiencies)-min(efficiencies))/n_bins\n",
        "bin_centres = []\n",
        "for i in range(len(bins)-1):\n",
        "  bin_centres.append((bins[1]-bins[0])*(i)+(bins[1]+bins[0])/2)\n",
        "\n",
        "entries, bc, p=plt.hist(efficiencies, bins=bins, density=True, weights = np.ones_like(efficiencies)/num)\n",
        "plt.xlabel(\"Efficiency\")\n",
        "plt.ylabel(\"Normalised counts\")\n",
        "plt.title(\"[Pure CF4, 60 Torr, dV = 590V]\")\n",
        "\n",
        "\n",
        "#Fit, plot Gaussian\n",
        "parameters, cov_matrix = curve_fit(gaussian, bin_centres, entries, p0=[0.175,0.001])\n",
        "y=[]\n",
        "for i in bin_centres:\n",
        "  y.append(gaussian(i,parameters[0],parameters[1]))\n",
        "plt.plot(bin_centres,y,\"o\")\n",
        "plt.legend([\"Fitted Gaussian distribution\",\"Simulation\"])\n",
        "print(\"mean: \"+str(parameters[0]))\n",
        "print(\"SD: \"+str(parameters[1]))\n",
        "print(np.divide(np.sqrt(np.diag(cov_matrix)),np.sqrt(num)))"
      ],
      "metadata": {
        "id": "6dr42nZBUAQz"
      },
      "execution_count": null,
      "outputs": []
    }
  ]
}