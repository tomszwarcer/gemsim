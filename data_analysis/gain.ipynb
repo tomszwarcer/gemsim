{
  "nbformat": 4,
  "nbformat_minor": 0,
  "metadata": {
    "colab": {
      "provenance": []
    },
    "kernelspec": {
      "name": "python3",
      "display_name": "Python 3"
    },
    "language_info": {
      "name": "python"
    }
  },
  "cells": [
    {
      "cell_type": "markdown",
      "source": [
        "1. Upload `gasgain_output.tar.gz`\n",
        "2. Run all"
      ],
      "metadata": {
        "id": "c4MAdebU6GSI"
      }
    },
    {
      "cell_type": "markdown",
      "source": [
        "## setup"
      ],
      "metadata": {
        "id": "mclped_zwzJb"
      }
    },
    {
      "cell_type": "code",
      "source": [
        "!tar -xzf gasgain_output.tar.gz\n",
        "!mkdir plots"
      ],
      "metadata": {
        "id": "Jk_zm6qDzkrV"
      },
      "execution_count": null,
      "outputs": []
    },
    {
      "cell_type": "code",
      "source": [
        "import numpy as np\n",
        "import pandas as pd\n",
        "import matplotlib as mpl\n",
        "import matplotlib.pyplot as plt\n",
        "import matplotlib.ticker as tk\n",
        "import scipy.special as spi\n",
        "from scipy.optimize import curve_fit\n",
        "\n",
        "from google.colab import files\n",
        "import csv"
      ],
      "metadata": {
        "id": "_ouNLpuAw4qo"
      },
      "execution_count": null,
      "outputs": []
    },
    {
      "cell_type": "code",
      "source": [
        "params = {\n",
        "   'axes.labelsize': 21,\n",
        "   'font.size': 16,\n",
        "   'font.family': 'sans-serif',\n",
        "   'font.serif': 'Arial',\n",
        "   'legend.fontsize': 18,\n",
        "   'xtick.labelsize': 18,\n",
        "   'ytick.labelsize': 18,\n",
        "   'axes.labelpad': 15,\n",
        "\n",
        "   'figure.figsize': [10,8], # value in inches based on dpi of monitor\n",
        "   'figure.dpi': 105.5, # My monitor has a dpi of around 105.5 px/inch\n",
        "\n",
        "   'axes.grid': True,\n",
        "   'grid.linestyle': '-',\n",
        "   'grid.alpha': 0.25,\n",
        "   'axes.linewidth': 1,\n",
        "   'figure.constrained_layout.use': True,\n",
        "\n",
        "\n",
        "   # Using Paul Tol's notes:\n",
        "   'axes.prop_cycle':\n",
        "      mpl.cycler(color=['#4477aa', # blue\n",
        "                        '#ee6677', # red/pink\n",
        "                        '#228833', # green\n",
        "                        '#aa3377', # purple\n",
        "                        '#66ccee', # cyan\n",
        "                        '#ccbb44', # yellow\n",
        "                        '#bbbbbb', # grey\n",
        "                        ]),\n",
        "\n",
        "      # Pick either the cycler above, or the cycler below:\n",
        "\n",
        "      # (mpl.cycler(color=['#4477aa', # blue\n",
        "      #                     '#ee6677', # red/pink\n",
        "      #                     '#228833', # green\n",
        "      #                     '#aa3377', # purple\n",
        "      #                     '#66ccee', # cyan\n",
        "      #                     '#ccbb44', # yellow\n",
        "      #                     '#bbbbbb', # grey\n",
        "      #                     ]) +\n",
        "      #   mpl.cycler(linestyle=['-', # solid\n",
        "      #                         '--', # dashed\n",
        "      #                         ':', # dotted\n",
        "      #                         '-.', # dash dot\n",
        "      #                         (0, (3, 1, 1, 1, 1, 1)), # narrow dash dot dot\n",
        "      #                         (0, (1, 2, 5, 2, 5, 2)), # dash dash dot\n",
        "      #                         (0, (5, 2.5, 1, 2.5, 1, 2.5)), # dash dot dot\n",
        "      #                         ])),\n",
        "\n",
        "   'lines.linewidth': 2.5,\n",
        "\n",
        "   'image.cmap': 'jet',\n",
        "}\n",
        "\n",
        "\n",
        "plt.rcParams.update(params)"
      ],
      "metadata": {
        "id": "6dQOBJTBw-kb"
      },
      "execution_count": null,
      "outputs": []
    },
    {
      "cell_type": "code",
      "source": [
        "def skgauss(n,m,a,alpha, mu):\n",
        "  phi = np.exp(((((n/m)-mu))**2)/2)**-1\n",
        "  phicdf = 2*(1+spi.erf(alpha*((n/m)-mu)))\n",
        "  return a*phi*phicdf"
      ],
      "metadata": {
        "id": "VgqMxPfp4KMw"
      },
      "execution_count": null,
      "outputs": []
    },
    {
      "cell_type": "markdown",
      "source": [
        "## MIGDAL data"
      ],
      "metadata": {
        "id": "tNktduONwhgy"
      }
    },
    {
      "cell_type": "code",
      "execution_count": null,
      "metadata": {
        "id": "V4dxxa0Uwccs"
      },
      "outputs": [],
      "source": [
        "wA = 26.4\n",
        "wC = 34.3\n",
        "def charge_to_gain(charge, pA, pC):\n",
        "    charge = np.array(charge)\n",
        "    wval = 1/((1/wA - 1/wC)*(pA/(pA+3.01*pC)) + 1/wC)\n",
        "    num_elec = charge*1E-12/1.6E-19\n",
        "    prim_elec = 5.2E3/wval\n",
        "    return (num_elec/prim_elec)"
      ]
    },
    {
      "cell_type": "code",
      "source": [
        "#Pure CF4 data\n",
        "voltages_60Torr_cf4 = [610, 620, 600, 595, 580, 615, 590, 605]\n",
        "pressures_60Torr_cf4 = np.ones(len(voltages_60Torr_cf4))*60\n",
        "argon_per_60Torr_cf4 = np.zeros(len(voltages_60Torr_cf4))\n",
        "\n",
        "ito_charge_60Torr_cf4 = [8.77, 13.54, 5.487, 4.260, 2.046, 10.921, 3.35, 6.939]\n",
        "ito_charge_errs_60Torr_cf4 = [0.018, 0.034, 0.02, 0.019, 0.01, 0.025, 0.019, 0.015]\n",
        "ito_res_60Torr_cf4 = [16.8, 16.2, 21.4, 25.5, 45.2, 16.5, 30, 18.3]\n",
        "ito_res_errs_60Torr_cf4 = [0.2, 0.3, 0.4, 0.5, 0.5, 0.2, 0.6,  0.2]\n",
        "\n",
        "#30% Ar data\n",
        "voltages_60Torr_3070 = [540,550,555,560,565,570, 575, 580,585,590]\n",
        "pressures_60Torr_3070 = np.ones(len(voltages_60Torr_3070))*60\n",
        "argon_per_60Torr_3070 = np.ones(len(voltages_60Torr_3070))*30\n",
        "\n",
        "ito_charge_60Torr_3070 = [1.364,2.173,2.795, 3.602,4.694,6.114,7.865, 10.035,12.737,16.079]\n",
        "ito_charge_errs_60Torr_3070 = [0.009, 0.018, 0.023, 0.019, 0.007, 0.024, 0.018, 0.021, 0.024, 0.008]\n",
        "ito_res_60Torr_3070 = [35.3, 15.2, 19.7, 17.2, 64.1, 24.5, 29.5, 15.8, 15, 42.7]\n",
        "ito_res_errs_60Torr_3070 = [0.4, 0.2, 0.4, 0.3, 0.5, 0.5, 0.5, 0.2, 0.2, 0.4]"
      ],
      "metadata": {
        "id": "UvjSFSH1SGwl"
      },
      "execution_count": null,
      "outputs": []
    },
    {
      "cell_type": "markdown",
      "source": [
        "## Simulation data"
      ],
      "metadata": {
        "id": "Aw6Jhw8Exnh-"
      }
    },
    {
      "cell_type": "code",
      "source": [
        "voltages_sim_purecf4 = [590,600,610,615,620]\n",
        "voltages_sim_3070 = [550,560,570,580,590]\n",
        "gains_sim_purecf4 = [0,0,0,0,0]\n",
        "err_sim_purecf4 = [0,0,0,0,0]\n",
        "gains_sim_3070 = [0,0,0,0,0]\n",
        "err_sim_3070 = [0,0,0,0,0]"
      ],
      "metadata": {
        "id": "zsz3MUzN6kD0"
      },
      "execution_count": null,
      "outputs": []
    },
    {
      "cell_type": "markdown",
      "source": [
        "### Pure CF4"
      ],
      "metadata": {
        "id": "ZOvjzG1Y2P7v"
      }
    },
    {
      "cell_type": "markdown",
      "source": [
        "#### 590V"
      ],
      "metadata": {
        "id": "rlpki4M72T4T"
      }
    },
    {
      "cell_type": "code",
      "source": [
        "#importing data\n",
        "num = 0\n",
        "sizes = []\n",
        "for i in range(1,5001,1):\n",
        "  try:\n",
        "    infile = open(\"output590_0/\" + str(i) + \".csv\",\"r\")\n",
        "  except FileNotFoundError:\n",
        "    continue\n",
        "  all = infile.readlines()\n",
        "  lines = all[0]\n",
        "  if int(lines)!=0:\n",
        "    num+=1\n",
        "    sizes.append(int(lines[:-1]))\n",
        "print(str(num) + \" data points\")\n",
        "\n",
        "#Plotting and fitting\n",
        "n_bins = 40\n",
        "\n",
        "#set up bins\n",
        "bins = np.linspace(min(sizes),max(sizes), n_bins+1)\n",
        "bin_width = (max(sizes)-min(sizes))/n_bins\n",
        "bin_centres = []\n",
        "for i in range(len(bins)-1):\n",
        "  bin_centres.append((bins[1]-bins[0])*(i)+(bins[1]+bins[0])/2)\n",
        "\n",
        "#Plot histogram\n",
        "entries, bc, p = plt.hist(sizes, bins=bins, density=True, weights = np.ones_like(sizes)/num)\n",
        "plt.xlabel(\"Gain\")\n",
        "plt.ylabel(\"Normalised counts\")\n",
        "plt.title(\"Gain distribution [Pure CF4, 60 Torr, dV = 590V]\")\n",
        "\n",
        "#Fit, plot skew-Gaussian\n",
        "parameters, cov_matrix = curve_fit(skgauss, bin_centres, entries, p0=[100000,0.000001,4,0.001])\n",
        "y=[]\n",
        "for i in bin_centres:\n",
        "  y.append(skgauss(i,parameters[0],parameters[1],parameters[2],parameters[3]))\n",
        "plt.plot(bin_centres,y,\"o\")\n",
        "plt.legend([\"Fitted skew gaussian distribution\",\"Simulation\"])\n",
        "\n",
        "#Data mean, SD, SE\n",
        "ex_d= 0\n",
        "var_d = 0\n",
        "for i in range(len(bin_centres)):\n",
        "  ex_d += bin_centres[i]*entries[i]*bin_width\n",
        "for i in range(len(bin_centres)):\n",
        "  var_d += ((bin_centres[i]-ex_d)**2)*entries[i]*bin_width\n",
        "sd_d = np.sqrt(var_d)\n",
        "se_d = sd_d/np.sqrt(num)\n",
        "\n",
        "#Fit mean, SD, SE\n",
        "ex = 0\n",
        "var = 0\n",
        "for i in range(len(bin_centres)):\n",
        "  ex += bin_centres[i]*y[i]*bin_width\n",
        "for i in range(len(bin_centres)):\n",
        "  var += ((bin_centres[i]-ex)**2)*y[i]*bin_width\n",
        "sd = np.sqrt(var)\n",
        "se = sd/np.sqrt(num)\n",
        "plt.text(max(sizes)-200000,max(entries)/1.5,\"mean = \" + str(int(round(ex,0))) + \"\\nSE = \" + str(int(round(np.sqrt((se**2)+(se_d**2)),0))))\n",
        "\n",
        "gains_sim_purecf4[0] = ex\n",
        "err_sim_purecf4[0] = np.sqrt((se**2)+(se_d**2))\n",
        "\n",
        "plt.savefig(\"plots/590_0.png\")"
      ],
      "metadata": {
        "collapsed": true,
        "id": "9U8ucbe22_EE"
      },
      "execution_count": null,
      "outputs": []
    },
    {
      "cell_type": "markdown",
      "source": [
        "#### 600V"
      ],
      "metadata": {
        "id": "t9KW1Dfl8oPN"
      }
    },
    {
      "cell_type": "code",
      "source": [
        "#importing data\n",
        "num = 0\n",
        "sizes = []\n",
        "for i in range(1,5001,1):\n",
        "  try:\n",
        "    infile = open(\"output600_0/\" + str(i) + \".csv\",\"r\")\n",
        "  except FileNotFoundError:\n",
        "    continue\n",
        "  all = infile.readlines()\n",
        "  lines = all[0]\n",
        "  if int(lines)!=0:\n",
        "    num+=1\n",
        "    sizes.append(int(lines[:-1]))\n",
        "print(str(num) + \" data points\")\n",
        "\n",
        "#Plotting and fitting\n",
        "n_bins = 40\n",
        "\n",
        "#set up bins\n",
        "bins = np.linspace(min(sizes),max(sizes), n_bins+1)\n",
        "bin_width = (max(sizes)-min(sizes))/n_bins\n",
        "bin_centres = []\n",
        "for i in range(len(bins)-1):\n",
        "  bin_centres.append((bins[1]-bins[0])*(i)+(bins[1]+bins[0])/2)\n",
        "\n",
        "#Plot histogram\n",
        "entries, bc, p = plt.hist(sizes, bins=bins, density=True, weights = np.ones_like(sizes)/num)\n",
        "plt.xlabel(\"Gain\")\n",
        "plt.ylabel(\"Normalised counts\")\n",
        "plt.title(\"Gain distribution [Pure CF4, 60 Torr, dV = 600V]\")\n",
        "\n",
        "#Fit, plot skew-Gaussian\n",
        "parameters, cov_matrix = curve_fit(skgauss, bin_centres, entries, p0=[100000,0.000001,4,0.001])\n",
        "y=[]\n",
        "for i in bin_centres:\n",
        "  y.append(skgauss(i,parameters[0],parameters[1],parameters[2],parameters[3]))\n",
        "plt.plot(bin_centres,y,\"o\")\n",
        "plt.legend([\"Fitted skew gaussian distribution\",\"Simulation\"])\n",
        "\n",
        "#Data mean, SD, SE\n",
        "ex_d= 0\n",
        "var_d = 0\n",
        "for i in range(len(bin_centres)):\n",
        "  ex_d += bin_centres[i]*entries[i]*bin_width\n",
        "for i in range(len(bin_centres)):\n",
        "  var_d += ((bin_centres[i]-ex_d)**2)*entries[i]*bin_width\n",
        "sd_d = np.sqrt(var_d)\n",
        "se_d = sd_d/np.sqrt(num)\n",
        "\n",
        "#Fit mean, SD, SE\n",
        "ex = 0\n",
        "var = 0\n",
        "for i in range(len(bin_centres)):\n",
        "  ex += bin_centres[i]*y[i]*bin_width\n",
        "for i in range(len(bin_centres)):\n",
        "  var += ((bin_centres[i]-ex)**2)*y[i]*bin_width\n",
        "sd = np.sqrt(var)\n",
        "se = sd/np.sqrt(num)\n",
        "plt.text(max(sizes)-200000,max(entries)/1.5,\"mean = \" + str(int(round(ex,0))) + \"\\nSE = \" + str(int(round(np.sqrt((se**2)+(se_d**2)),0))))\n",
        "\n",
        "gains_sim_purecf4[1] = ex\n",
        "err_sim_purecf4[1] = np.sqrt((se**2)+(se_d**2))\n",
        "\n",
        "plt.savefig(\"plots/600_0.png\")"
      ],
      "metadata": {
        "collapsed": true,
        "id": "afYC_NMr8oPP"
      },
      "execution_count": null,
      "outputs": []
    },
    {
      "cell_type": "markdown",
      "source": [
        "#### 610V"
      ],
      "metadata": {
        "id": "Ad43gUaA9Eqj"
      }
    },
    {
      "cell_type": "code",
      "source": [
        "#importing data\n",
        "num = 0\n",
        "sizes = []\n",
        "for i in range(1,5001,1):\n",
        "  try:\n",
        "    infile = open(\"output610_0/\" + str(i) + \".csv\",\"r\")\n",
        "  except FileNotFoundError:\n",
        "    continue\n",
        "  all = infile.readlines()\n",
        "  lines = all[0]\n",
        "  if int(lines)!=0:\n",
        "    num+=1\n",
        "    sizes.append(int(lines[:-1]))\n",
        "print(str(num) + \" data points\")\n",
        "\n",
        "#Plotting and fitting\n",
        "n_bins = 42\n",
        "\n",
        "#set up bins\n",
        "bins = np.linspace(min(sizes),max(sizes), n_bins+1)\n",
        "bin_width = (max(sizes)-min(sizes))/n_bins\n",
        "bin_centres = []\n",
        "for i in range(len(bins)-1):\n",
        "  bin_centres.append((bins[1]-bins[0])*(i)+(bins[1]+bins[0])/2)\n",
        "\n",
        "#Plot histogram\n",
        "entries, bc, p = plt.hist(sizes, bins=bins, density=True, weights = np.ones_like(sizes)/num)\n",
        "plt.xlabel(\"Gain\")\n",
        "plt.ylabel(\"Normalised counts\")\n",
        "plt.title(\"Gain distribution [Pure CF4, 60 Torr, dV = 610V]\")\n",
        "\n",
        "#Fit, plot skew-Gaussian\n",
        "parameters, cov_matrix = curve_fit(skgauss, bin_centres, entries, p0=[100000,0.000001,4,0.001])\n",
        "y=[]\n",
        "for i in bin_centres:\n",
        "  y.append(skgauss(i,parameters[0],parameters[1],parameters[2],parameters[3]))\n",
        "plt.plot(bin_centres,y,\"o\")\n",
        "plt.legend([\"Fitted skew gaussian distribution\",\"Simulation\"])\n",
        "\n",
        "#Data mean, SD, SE\n",
        "ex_d= 0\n",
        "var_d = 0\n",
        "for i in range(len(bin_centres)):\n",
        "  ex_d += bin_centres[i]*entries[i]*bin_width\n",
        "for i in range(len(bin_centres)):\n",
        "  var_d += ((bin_centres[i]-ex_d)**2)*entries[i]*bin_width\n",
        "sd_d = np.sqrt(var_d)\n",
        "se_d = sd_d/np.sqrt(num)\n",
        "\n",
        "#Fit mean, SD, SE\n",
        "ex = 0\n",
        "var = 0\n",
        "for i in range(len(bin_centres)):\n",
        "  ex += bin_centres[i]*y[i]*bin_width\n",
        "for i in range(len(bin_centres)):\n",
        "  var += ((bin_centres[i]-ex)**2)*y[i]*bin_width\n",
        "sd = np.sqrt(var)\n",
        "se = sd/np.sqrt(num)\n",
        "plt.text(max(sizes)-200000,max(entries)/1.5,\"mean = \" + str(int(round(ex,0))) + \"\\nSE = \" + str(int(round(np.sqrt((se**2)+(se_d**2)),0))))\n",
        "\n",
        "gains_sim_purecf4[2] = ex\n",
        "err_sim_purecf4[2] = np.sqrt((se**2)+(se_d**2))\n",
        "\n",
        "plt.savefig(\"plots/610_0.png\")"
      ],
      "metadata": {
        "collapsed": true,
        "id": "PPSL7w4f9Eqj"
      },
      "execution_count": null,
      "outputs": []
    },
    {
      "cell_type": "markdown",
      "source": [
        "#### 615V"
      ],
      "metadata": {
        "id": "_EafQbwz9aZh"
      }
    },
    {
      "cell_type": "code",
      "source": [
        "#importing data\n",
        "num = 0\n",
        "sizes = []\n",
        "for i in range(1,5001,1):\n",
        "  try:\n",
        "    infile = open(\"output615_0/\" + str(i) + \".csv\",\"r\")\n",
        "  except FileNotFoundError:\n",
        "    continue\n",
        "  all = infile.readlines()\n",
        "  lines = all[0]\n",
        "  if int(lines)!=0:\n",
        "    num+=1\n",
        "    sizes.append(int(lines[:-1]))\n",
        "print(str(num) + \" data points\")\n",
        "\n",
        "#Plotting and fitting\n",
        "n_bins = 42\n",
        "\n",
        "#set up bins\n",
        "bins = np.linspace(min(sizes),max(sizes), n_bins+1)\n",
        "bin_width = (max(sizes)-min(sizes))/n_bins\n",
        "bin_centres = []\n",
        "for i in range(len(bins)-1):\n",
        "  bin_centres.append((bins[1]-bins[0])*(i)+(bins[1]+bins[0])/2)\n",
        "\n",
        "#Plot histogram\n",
        "entries, bc, p = plt.hist(sizes, bins=bins, density=True, weights = np.ones_like(sizes)/num)\n",
        "plt.xlabel(\"Gain\")\n",
        "plt.ylabel(\"Normalised counts\")\n",
        "plt.title(\"Gain distribution [Pure CF4, 60 Torr, dV = 615V]\")\n",
        "\n",
        "#Fit, plot skew-Gaussian\n",
        "parameters, cov_matrix = curve_fit(skgauss, bin_centres, entries, p0=[100000,0.000001,4,0.001])\n",
        "y=[]\n",
        "for i in bin_centres:\n",
        "  y.append(skgauss(i,parameters[0],parameters[1],parameters[2],parameters[3]))\n",
        "plt.plot(bin_centres,y,\"o\")\n",
        "plt.legend([\"Fitted skew gaussian distribution\",\"Simulation\"])\n",
        "\n",
        "#Data mean, SD, SE\n",
        "ex_d= 0\n",
        "var_d = 0\n",
        "for i in range(len(bin_centres)):\n",
        "  ex_d += bin_centres[i]*entries[i]*bin_width\n",
        "for i in range(len(bin_centres)):\n",
        "  var_d += ((bin_centres[i]-ex_d)**2)*entries[i]*bin_width\n",
        "sd_d = np.sqrt(var_d)\n",
        "se_d = sd_d/np.sqrt(num)\n",
        "\n",
        "#Fit mean, SD, SE\n",
        "ex = 0\n",
        "var = 0\n",
        "for i in range(len(bin_centres)):\n",
        "  ex += bin_centres[i]*y[i]*bin_width\n",
        "for i in range(len(bin_centres)):\n",
        "  var += ((bin_centres[i]-ex)**2)*y[i]*bin_width\n",
        "sd = np.sqrt(var)\n",
        "se = sd/np.sqrt(num)\n",
        "plt.text(max(sizes)-300000,max(entries)/1.5,\"mean = \" + str(int(round(ex,0))) + \"\\nSE = \" + str(int(round(np.sqrt((se**2)+(se_d**2)),0))))\n",
        "\n",
        "gains_sim_purecf4[3] = ex\n",
        "err_sim_purecf4[3] = np.sqrt((se**2)+(se_d**2))\n",
        "\n",
        "plt.savefig(\"plots/615_0.png\")"
      ],
      "metadata": {
        "collapsed": true,
        "id": "E1Oj8L8r9aZi"
      },
      "execution_count": null,
      "outputs": []
    },
    {
      "cell_type": "markdown",
      "source": [
        "#### 620V"
      ],
      "metadata": {
        "id": "y5QfzuXg9sUe"
      }
    },
    {
      "cell_type": "code",
      "source": [
        "#importing data\n",
        "num = 0\n",
        "sizes = []\n",
        "for i in range(1,5001,1):\n",
        "  try:\n",
        "    infile = open(\"output620_0/\" + str(i) + \".csv\",\"r\")\n",
        "  except FileNotFoundError:\n",
        "    continue\n",
        "  all = infile.readlines()\n",
        "  lines = all[0]\n",
        "  if int(lines)!=0:\n",
        "    num+=1\n",
        "    sizes.append(int(lines[:-1]))\n",
        "print(str(num) + \" data points\")\n",
        "\n",
        "#Plotting and fitting\n",
        "n_bins = 42\n",
        "\n",
        "#set up bins\n",
        "bins = np.linspace(min(sizes),max(sizes), n_bins+1)\n",
        "bin_width = (max(sizes)-min(sizes))/n_bins\n",
        "bin_centres = []\n",
        "for i in range(len(bins)-1):\n",
        "  bin_centres.append((bins[1]-bins[0])*(i)+(bins[1]+bins[0])/2)\n",
        "\n",
        "#Plot histogram\n",
        "entries, bc, p = plt.hist(sizes, bins=bins, density=True, weights = np.ones_like(sizes)/num)\n",
        "plt.xlabel(\"Gain\")\n",
        "plt.ylabel(\"Normalised counts\")\n",
        "plt.title(\"Gain distribution [Pure CF4, 60 Torr, dV = 620V]\")\n",
        "\n",
        "#Fit, plot skew-Gaussian\n",
        "parameters, cov_matrix = curve_fit(skgauss, bin_centres, entries, p0=[100000,0.000001,4,0.001])\n",
        "y=[]\n",
        "for i in bin_centres:\n",
        "  y.append(skgauss(i,parameters[0],parameters[1],parameters[2],parameters[3]))\n",
        "plt.plot(bin_centres,y,\"o\")\n",
        "plt.legend([\"Fitted skew gaussian distribution\",\"Simulation\"])\n",
        "\n",
        "#Data mean, SD, SE\n",
        "ex_d= 0\n",
        "var_d = 0\n",
        "for i in range(len(bin_centres)):\n",
        "  ex_d += bin_centres[i]*entries[i]*bin_width\n",
        "for i in range(len(bin_centres)):\n",
        "  var_d += ((bin_centres[i]-ex_d)**2)*entries[i]*bin_width\n",
        "sd_d = np.sqrt(var_d)\n",
        "se_d = sd_d/np.sqrt(num)\n",
        "\n",
        "#Fit mean, SD, SE\n",
        "ex = 0\n",
        "var = 0\n",
        "for i in range(len(bin_centres)):\n",
        "  ex += bin_centres[i]*y[i]*bin_width\n",
        "for i in range(len(bin_centres)):\n",
        "  var += ((bin_centres[i]-ex)**2)*y[i]*bin_width\n",
        "sd = np.sqrt(var)\n",
        "se = sd/np.sqrt(num)\n",
        "plt.text(max(sizes)-300000,max(entries)/1.5,\"mean = \" + str(int(round(ex,0))) + \"\\nSE = \" + str(int(round(np.sqrt((se**2)+(se_d**2)),0))))\n",
        "\n",
        "gains_sim_purecf4[4] = ex\n",
        "err_sim_purecf4[4] = np.sqrt((se**2)+(se_d**2))\n",
        "\n",
        "plt.savefig(\"plots/620_0.png\")"
      ],
      "metadata": {
        "collapsed": true,
        "id": "xXrZ5VPd9sUf"
      },
      "execution_count": null,
      "outputs": []
    },
    {
      "cell_type": "markdown",
      "source": [
        "### 30% Ar"
      ],
      "metadata": {
        "id": "b853jhBm-Dkg"
      }
    },
    {
      "cell_type": "markdown",
      "source": [
        "#### 550V"
      ],
      "metadata": {
        "id": "1G0mqRuK-Dkh"
      }
    },
    {
      "cell_type": "code",
      "source": [
        "#importing data\n",
        "num = 0\n",
        "sizes = []\n",
        "for i in range(1,5001,1):\n",
        "  try:\n",
        "    infile = open(\"output550_30/\" + str(i) + \".csv\",\"r\")\n",
        "  except FileNotFoundError:\n",
        "    continue\n",
        "  all = infile.readlines()\n",
        "  lines = all[0]\n",
        "  if int(lines)!=0:\n",
        "    num+=1\n",
        "    sizes.append(int(lines[:-1]))\n",
        "print(str(num) + \" data points\")\n",
        "\n",
        "#Plotting and fitting\n",
        "n_bins = 40\n",
        "\n",
        "#set up bins\n",
        "bins = np.linspace(min(sizes),max(sizes), n_bins+1)\n",
        "bin_width = (max(sizes)-min(sizes))/n_bins\n",
        "bin_centres = []\n",
        "for i in range(len(bins)-1):\n",
        "  bin_centres.append((bins[1]-bins[0])*(i)+(bins[1]+bins[0])/2)\n",
        "\n",
        "#Plot histogram\n",
        "entries, bc, p = plt.hist(sizes, bins=bins, density=True, weights = np.ones_like(sizes)/num)\n",
        "plt.xlabel(\"Gain\")\n",
        "plt.ylabel(\"Normalised counts\")\n",
        "plt.title(\"Gain distribution [30% Ar, 60 Torr, dV = 550V]\")\n",
        "\n",
        "#Fit, plot skew-Gaussian\n",
        "parameters, cov_matrix = curve_fit(skgauss, bin_centres, entries, p0=[50000,0.000001,4,0.001])\n",
        "y=[]\n",
        "for i in bin_centres:\n",
        "  y.append(skgauss(i,parameters[0],parameters[1],parameters[2],parameters[3]))\n",
        "plt.plot(bin_centres,y,\"o\")\n",
        "plt.legend([\"Fitted skew gaussian distribution\",\"Simulation\"])\n",
        "\n",
        "#Data mean, SD, SE\n",
        "ex_d= 0\n",
        "var_d = 0\n",
        "for i in range(len(bin_centres)):\n",
        "  ex_d += bin_centres[i]*entries[i]*bin_width\n",
        "for i in range(len(bin_centres)):\n",
        "  var_d += ((bin_centres[i]-ex_d)**2)*entries[i]*bin_width\n",
        "sd_d = np.sqrt(var_d)\n",
        "se_d = sd_d/np.sqrt(num)\n",
        "\n",
        "#Fit mean, SD, SE\n",
        "ex = 0\n",
        "var = 0\n",
        "for i in range(len(bin_centres)):\n",
        "  ex += bin_centres[i]*y[i]*bin_width\n",
        "for i in range(len(bin_centres)):\n",
        "  var += ((bin_centres[i]-ex)**2)*y[i]*bin_width\n",
        "sd = np.sqrt(var)\n",
        "se = sd/np.sqrt(num)\n",
        "plt.text(max(sizes)-30000,max(entries)/1.5,\"mean = \" + str(int(round(ex,0))) + \"\\nSE = \" + str(int(round(np.sqrt((se**2)+(se_d**2)),0))))\n",
        "\n",
        "gains_sim_3070[0] = ex\n",
        "err_sim_3070[0] = np.sqrt((se**2)+(se_d**2))\n",
        "\n",
        "plt.savefig(\"plots/550_30.png\")"
      ],
      "metadata": {
        "collapsed": true,
        "id": "vvCOurfv-Dkh"
      },
      "execution_count": null,
      "outputs": []
    },
    {
      "cell_type": "markdown",
      "source": [
        "#### 560V"
      ],
      "metadata": {
        "id": "SF7SThQn_9-u"
      }
    },
    {
      "cell_type": "code",
      "source": [
        "#importing data\n",
        "num = 0\n",
        "sizes = []\n",
        "for i in range(1,5001,1):\n",
        "  try:\n",
        "    infile = open(\"output560_30/\" + str(i) + \".csv\",\"r\")\n",
        "  except FileNotFoundError:\n",
        "    continue\n",
        "  all = infile.readlines()\n",
        "  lines = all[0]\n",
        "  if int(lines)!=0:\n",
        "    num+=1\n",
        "    sizes.append(int(lines[:-1]))\n",
        "print(str(num) + \" data points\")\n",
        "\n",
        "#Plotting and fitting\n",
        "n_bins = 42\n",
        "\n",
        "#set up bins\n",
        "bins = np.linspace(min(sizes),max(sizes), n_bins+1)\n",
        "bin_width = (max(sizes)-min(sizes))/n_bins\n",
        "bin_centres = []\n",
        "for i in range(len(bins)-1):\n",
        "  bin_centres.append((bins[1]-bins[0])*(i)+(bins[1]+bins[0])/2)\n",
        "\n",
        "#Plot histogram\n",
        "entries, bc, p = plt.hist(sizes, bins=bins, density=True, weights = np.ones_like(sizes)/num)\n",
        "plt.xlabel(\"Gain\")\n",
        "plt.ylabel(\"Normalised counts\")\n",
        "plt.title(\"Gain distribution [30% Ar, 60 Torr, dV = 560V]\")\n",
        "\n",
        "#Fit, plot skew-Gaussian\n",
        "parameters, cov_matrix = curve_fit(skgauss, bin_centres, entries, p0=[50000,0.000001,4,0.001])\n",
        "y=[]\n",
        "for i in bin_centres:\n",
        "  y.append(skgauss(i,parameters[0],parameters[1],parameters[2],parameters[3]))\n",
        "plt.plot(bin_centres,y,\"o\")\n",
        "plt.legend([\"Fitted skew gaussian distribution\",\"Simulation\"])\n",
        "\n",
        "#Data mean, SD, SE\n",
        "ex_d= 0\n",
        "var_d = 0\n",
        "for i in range(len(bin_centres)):\n",
        "  ex_d += bin_centres[i]*entries[i]*bin_width\n",
        "for i in range(len(bin_centres)):\n",
        "  var_d += ((bin_centres[i]-ex_d)**2)*entries[i]*bin_width\n",
        "sd_d = np.sqrt(var_d)\n",
        "se_d = sd_d/np.sqrt(num)\n",
        "\n",
        "#Fit mean, SD, SE\n",
        "ex = 0\n",
        "var = 0\n",
        "for i in range(len(bin_centres)):\n",
        "  ex += bin_centres[i]*y[i]*bin_width\n",
        "for i in range(len(bin_centres)):\n",
        "  var += ((bin_centres[i]-ex)**2)*y[i]*bin_width\n",
        "sd = np.sqrt(var)\n",
        "se = sd/np.sqrt(num)\n",
        "plt.text(max(sizes)-30000,max(entries)/1.5,\"mean = \" + str(int(round(ex,0))) + \"\\nSE = \" + str(int(round(np.sqrt((se**2)+(se_d**2)),0))))\n",
        "\n",
        "gains_sim_3070[1] = ex\n",
        "err_sim_3070[1] = np.sqrt((se**2)+(se_d**2))\n",
        "\n",
        "plt.savefig(\"plots/560_30.png\")"
      ],
      "metadata": {
        "collapsed": true,
        "id": "sB6MaoIE_9-8"
      },
      "execution_count": null,
      "outputs": []
    },
    {
      "cell_type": "markdown",
      "source": [
        "#### 570V"
      ],
      "metadata": {
        "id": "SYxuD3yjAWKC"
      }
    },
    {
      "cell_type": "code",
      "source": [
        "#importing data\n",
        "num = 0\n",
        "sizes = []\n",
        "for i in range(1,5001,1):\n",
        "  try:\n",
        "    infile = open(\"output570_30/\" + str(i) + \".csv\",\"r\")\n",
        "  except FileNotFoundError:\n",
        "    continue\n",
        "  all = infile.readlines()\n",
        "  lines = all[0]\n",
        "  if int(lines)!=0:\n",
        "    num+=1\n",
        "    sizes.append(int(lines[:-1]))\n",
        "print(str(num) + \" data points\")\n",
        "\n",
        "#Plotting and fitting\n",
        "n_bins = 42\n",
        "\n",
        "#set up bins\n",
        "bins = np.linspace(min(sizes),max(sizes), n_bins+1)\n",
        "bin_width = (max(sizes)-min(sizes))/n_bins\n",
        "bin_centres = []\n",
        "for i in range(len(bins)-1):\n",
        "  bin_centres.append((bins[1]-bins[0])*(i)+(bins[1]+bins[0])/2)\n",
        "\n",
        "#Plot histogram\n",
        "entries, bc, p = plt.hist(sizes, bins=bins, density=True, weights = np.ones_like(sizes)/num)\n",
        "plt.xlabel(\"Gain\")\n",
        "plt.ylabel(\"Normalised counts\")\n",
        "plt.title(\"Gain distribution [30% Ar, 60 Torr, dV = 570V]\")\n",
        "\n",
        "#Fit, plot skew-Gaussian\n",
        "parameters, cov_matrix = curve_fit(skgauss, bin_centres, entries, p0=[50000,0.000001,4,0.001])\n",
        "y=[]\n",
        "for i in bin_centres:\n",
        "  y.append(skgauss(i,parameters[0],parameters[1],parameters[2],parameters[3]))\n",
        "plt.plot(bin_centres,y,\"o\")\n",
        "plt.legend([\"Fitted skew gaussian distribution\",\"Simulation\"])\n",
        "\n",
        "#Data mean, SD, SE\n",
        "ex_d= 0\n",
        "var_d = 0\n",
        "for i in range(len(bin_centres)):\n",
        "  ex_d += bin_centres[i]*entries[i]*bin_width\n",
        "for i in range(len(bin_centres)):\n",
        "  var_d += ((bin_centres[i]-ex_d)**2)*entries[i]*bin_width\n",
        "sd_d = np.sqrt(var_d)\n",
        "se_d = sd_d/np.sqrt(num)\n",
        "\n",
        "#Fit mean, SD, SE\n",
        "ex = 0\n",
        "var = 0\n",
        "for i in range(len(bin_centres)):\n",
        "  ex += bin_centres[i]*y[i]*bin_width\n",
        "for i in range(len(bin_centres)):\n",
        "  var += ((bin_centres[i]-ex)**2)*y[i]*bin_width\n",
        "sd = np.sqrt(var)\n",
        "se = sd/np.sqrt(num)\n",
        "plt.text(max(sizes)-120000,max(entries)/1.5,\"mean = \" + str(int(round(ex,0))) + \"\\nSE = \" + str(int(round(np.sqrt((se**2)+(se_d**2)),0))))\n",
        "\n",
        "gains_sim_3070[2] = ex\n",
        "err_sim_3070[2] = np.sqrt((se**2)+(se_d**2))\n",
        "\n",
        "plt.savefig(\"plots/570_30.png\")"
      ],
      "metadata": {
        "collapsed": true,
        "id": "C3wi2w7eAWKR"
      },
      "execution_count": null,
      "outputs": []
    },
    {
      "cell_type": "markdown",
      "source": [
        "#### 580V"
      ],
      "metadata": {
        "id": "eGsoQyHRAyR8"
      }
    },
    {
      "cell_type": "code",
      "source": [
        "#importing data\n",
        "num = 0\n",
        "sizes = []\n",
        "for i in range(1,5001,1):\n",
        "  try:\n",
        "    infile = open(\"output580_30/\" + str(i) + \".csv\",\"r\")\n",
        "  except FileNotFoundError:\n",
        "    continue\n",
        "  all = infile.readlines()\n",
        "  lines = all[0]\n",
        "  if int(lines)!=0:\n",
        "    num+=1\n",
        "    sizes.append(int(lines[:-1]))\n",
        "print(str(num) + \" data points\")\n",
        "\n",
        "#Plotting and fitting\n",
        "n_bins = 45\n",
        "\n",
        "#set up bins\n",
        "bins = np.linspace(min(sizes),max(sizes), n_bins+1)\n",
        "bin_width = (max(sizes)-min(sizes))/n_bins\n",
        "bin_centres = []\n",
        "for i in range(len(bins)-1):\n",
        "  bin_centres.append((bins[1]-bins[0])*(i)+(bins[1]+bins[0])/2)\n",
        "\n",
        "#Plot histogram\n",
        "entries, bc, p = plt.hist(sizes, bins=bins, density=True, weights = np.ones_like(sizes)/num)\n",
        "plt.xlabel(\"Gain\")\n",
        "plt.ylabel(\"Normalised counts\")\n",
        "plt.title(\"Gain distribution [30% Ar, 60 Torr, dV = 580V]\")\n",
        "\n",
        "#Fit, plot skew-Gaussian\n",
        "parameters, cov_matrix = curve_fit(skgauss, bin_centres, entries, p0=[50000,0.000001,4,0.001])\n",
        "y=[]\n",
        "for i in bin_centres:\n",
        "  y.append(skgauss(i,parameters[0],parameters[1],parameters[2],parameters[3]))\n",
        "plt.plot(bin_centres,y,\"o\")\n",
        "plt.legend([\"Fitted skew gaussian distribution\",\"Simulation\"])\n",
        "\n",
        "#Data mean, SD, SE\n",
        "ex_d= 0\n",
        "var_d = 0\n",
        "for i in range(len(bin_centres)):\n",
        "  ex_d += bin_centres[i]*entries[i]*bin_width\n",
        "for i in range(len(bin_centres)):\n",
        "  var_d += ((bin_centres[i]-ex_d)**2)*entries[i]*bin_width\n",
        "sd_d = np.sqrt(var_d)\n",
        "se_d = sd_d/np.sqrt(num)\n",
        "\n",
        "#Fit mean, SD, SE\n",
        "ex = 0\n",
        "var = 0\n",
        "for i in range(len(bin_centres)):\n",
        "  ex += bin_centres[i]*y[i]*bin_width\n",
        "for i in range(len(bin_centres)):\n",
        "  var += ((bin_centres[i]-ex)**2)*y[i]*bin_width\n",
        "sd = np.sqrt(var)\n",
        "se = sd/np.sqrt(num)\n",
        "plt.text(max(sizes)-150000,max(entries)/1.5,\"mean = \" + str(int(round(ex,0))) + \"\\nSE = \" + str(int(round(np.sqrt((se**2)+(se_d**2)),0))))\n",
        "\n",
        "gains_sim_3070[3] = ex\n",
        "err_sim_3070[3] = np.sqrt((se**2)+(se_d**2))\n",
        "\n",
        "plt.savefig(\"plots/580_30.png\")"
      ],
      "metadata": {
        "collapsed": true,
        "id": "1JlcV4KbAySL"
      },
      "execution_count": null,
      "outputs": []
    },
    {
      "cell_type": "markdown",
      "source": [
        "#### 590V"
      ],
      "metadata": {
        "id": "ZWod32x3BbN-"
      }
    },
    {
      "cell_type": "code",
      "source": [
        "#importing data\n",
        "num = 0\n",
        "sizes = []\n",
        "for i in range(1,5001,1):\n",
        "  try:\n",
        "    infile = open(\"output590_30/\" + str(i) + \".csv\",\"r\")\n",
        "  except FileNotFoundError:\n",
        "    continue\n",
        "  all = infile.readlines()\n",
        "  lines = all[0]\n",
        "  if int(lines)!=0:\n",
        "    num+=1\n",
        "    sizes.append(int(lines[:-1]))\n",
        "print(str(num) + \" data points\")\n",
        "\n",
        "#Plotting and fitting\n",
        "n_bins = 45\n",
        "\n",
        "#set up bins\n",
        "bins = np.linspace(min(sizes),max(sizes), n_bins+1)\n",
        "bin_width = (max(sizes)-min(sizes))/n_bins\n",
        "bin_centres = []\n",
        "for i in range(len(bins)-1):\n",
        "  bin_centres.append((bins[1]-bins[0])*(i)+(bins[1]+bins[0])/2)\n",
        "\n",
        "#Plot histogram\n",
        "entries, bc, p = plt.hist(sizes, bins=bins, density=True, weights = np.ones_like(sizes)/num)\n",
        "plt.xlabel(\"Gain\")\n",
        "plt.ylabel(\"Normalised counts\")\n",
        "plt.title(\"Gain distribution [30% Ar, 60 Torr, dV = 590V]\")\n",
        "\n",
        "#Fit, plot skew-Gaussian\n",
        "parameters, cov_matrix = curve_fit(skgauss, bin_centres, entries, p0=[50000,0.000001,4,0.001])\n",
        "y=[]\n",
        "for i in bin_centres:\n",
        "  y.append(skgauss(i,parameters[0],parameters[1],parameters[2],parameters[3]))\n",
        "plt.plot(bin_centres,y,\"o\")\n",
        "plt.legend([\"Fitted skew gaussian distribution\",\"Simulation\"])\n",
        "\n",
        "#Data mean, SD, SE\n",
        "ex_d= 0\n",
        "var_d = 0\n",
        "for i in range(len(bin_centres)):\n",
        "  ex_d += bin_centres[i]*entries[i]*bin_width\n",
        "for i in range(len(bin_centres)):\n",
        "  var_d += ((bin_centres[i]-ex_d)**2)*entries[i]*bin_width\n",
        "sd_d = np.sqrt(var_d)\n",
        "se_d = sd_d/np.sqrt(num)\n",
        "\n",
        "#Fit mean, SD, SE\n",
        "ex = 0\n",
        "var = 0\n",
        "for i in range(len(bin_centres)):\n",
        "  ex += bin_centres[i]*y[i]*bin_width\n",
        "for i in range(len(bin_centres)):\n",
        "  var += ((bin_centres[i]-ex)**2)*y[i]*bin_width\n",
        "sd = np.sqrt(var)\n",
        "se = sd/np.sqrt(num)\n",
        "plt.text(max(sizes)-320000,max(entries)/1.5,\"mean = \" + str(int(round(ex,0))) + \"\\nSE = \" + str(int(round(np.sqrt((se**2)+(se_d**2)),0))))\n",
        "\n",
        "gains_sim_3070[4] = ex\n",
        "err_sim_3070[4] = np.sqrt((se**2)+(se_d**2))\n",
        "\n",
        "plt.savefig(\"plots/590_30.png\")"
      ],
      "metadata": {
        "collapsed": true,
        "id": "wscoDPztBbOL"
      },
      "execution_count": null,
      "outputs": []
    },
    {
      "cell_type": "markdown",
      "source": [
        "## Comparison"
      ],
      "metadata": {
        "id": "whHfyuFJ2Z7Z"
      }
    },
    {
      "cell_type": "code",
      "source": [
        "print(voltages_sim_purecf4)\n",
        "print(gains_sim_purecf4)\n",
        "print(err_sim_purecf4)\n",
        "print(\"\\n\")\n",
        "print(voltages_sim_3070)\n",
        "print(gains_sim_3070)\n",
        "print(err_sim_3070)"
      ],
      "metadata": {
        "collapsed": true,
        "id": "tdKCZVMHxqYR"
      },
      "execution_count": null,
      "outputs": []
    },
    {
      "cell_type": "code",
      "source": [
        "ax = plt.axes()\n",
        "\n",
        "#Pure CF4\n",
        "ax.scatter(voltages_60Torr_cf4,charge_to_gain(ito_charge_60Torr_cf4, 0, 60),label=\"MIGDAL Data (0% Ar)\", s = 50.0)\n",
        "ax.scatter(voltages_sim_purecf4,gains_sim_purecf4,label=\"Simulation (0% Ar)\", marker='x', s=60.0,color='#4477aa')\n",
        "ax.errorbar(voltages_sim_purecf4,gains_sim_purecf4,yerr=err_sim_purecf4,elinewidth = 1.2, ecolor = '#4477aa', ls='none')\n",
        "ax.set_xlabel(\"GEM dV [V]\")\n",
        "ax.set_ylabel(\"Gain\")\n",
        "\n",
        "#30% Ar\n",
        "ax.scatter(voltages_60Torr_3070,charge_to_gain(ito_charge_60Torr_3070, 18, 42),label=\"MIGDAL measurement (30% Ar)\")\n",
        "ax.scatter(voltages_sim_3070,gains_sim_3070,label=\"Simulation (30% Ar)\", marker='x', s=60.0,color='#ee6677')\n",
        "ax.errorbar(voltages_sim_3070,gains_sim_3070,yerr=err_sim_3070,elinewidth = 1.2, ecolor = '#ee6677', ls='none')\n",
        "\n",
        "\n",
        "ax.text(613,645000,'[60 Torr]')\n",
        "#ax.set_yscale('log')\n",
        "ax.legend(bbox_to_anchor=(0.56,1.17),loc='upper right',mode='expand',ncols=2,frameon=False,fontsize=18)\n",
        "\n",
        "\n",
        "plt.savefig(\"plots/comparison.png\")\n"
      ],
      "metadata": {
        "id": "4jzRO3LbxpXQ"
      },
      "execution_count": null,
      "outputs": []
    },
    {
      "cell_type": "markdown",
      "source": [
        "## Export"
      ],
      "metadata": {
        "id": "Mgn3F5Bb2kdu"
      }
    },
    {
      "cell_type": "code",
      "source": [
        "!tar -czf plots.tar.gz plots"
      ],
      "metadata": {
        "id": "SOef18b461Ix"
      },
      "execution_count": null,
      "outputs": []
    }
  ]
}